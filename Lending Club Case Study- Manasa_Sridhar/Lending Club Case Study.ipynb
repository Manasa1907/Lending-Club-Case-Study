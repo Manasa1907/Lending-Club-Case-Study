{
 "cells": [
  {
   "cell_type": "code",
   "execution_count": 2,
   "id": "44bafb29",
   "metadata": {},
   "outputs": [],
   "source": [
    "## import libraries\n",
    "import numpy as np\n",
    "import pandas as pd\n",
    "import matplotlib.pyplot as plt\n",
    "import seaborn as sns\n",
    "import warnings\n",
    "warnings.filterwarnings('ignore')\n"
   ]
  },
  {
   "cell_type": "code",
   "execution_count": 6,
   "id": "95f7a66d",
   "metadata": {},
   "outputs": [],
   "source": [
    "#reading the data\n",
    "loan_data = pd.read_csv(\"loan1.csv\")"
   ]
  },
  {
   "cell_type": "code",
   "execution_count": 4,
   "id": "f1ff9809",
   "metadata": {},
   "outputs": [
    {
     "data": {
      "text/html": [
       "<div>\n",
       "<style scoped>\n",
       "    .dataframe tbody tr th:only-of-type {\n",
       "        vertical-align: middle;\n",
       "    }\n",
       "\n",
       "    .dataframe tbody tr th {\n",
       "        vertical-align: top;\n",
       "    }\n",
       "\n",
       "    .dataframe thead th {\n",
       "        text-align: right;\n",
       "    }\n",
       "</style>\n",
       "<table border=\"1\" class=\"dataframe\">\n",
       "  <thead>\n",
       "    <tr style=\"text-align: right;\">\n",
       "      <th></th>\n",
       "      <th>id</th>\n",
       "      <th>member_id</th>\n",
       "      <th>loan_amnt</th>\n",
       "      <th>funded_amnt</th>\n",
       "      <th>funded_amnt_inv</th>\n",
       "      <th>term</th>\n",
       "      <th>int_rate</th>\n",
       "      <th>installment</th>\n",
       "      <th>grade</th>\n",
       "      <th>sub_grade</th>\n",
       "      <th>...</th>\n",
       "      <th>num_tl_90g_dpd_24m</th>\n",
       "      <th>num_tl_op_past_12m</th>\n",
       "      <th>pct_tl_nvr_dlq</th>\n",
       "      <th>percent_bc_gt_75</th>\n",
       "      <th>pub_rec_bankruptcies</th>\n",
       "      <th>tax_liens</th>\n",
       "      <th>tot_hi_cred_lim</th>\n",
       "      <th>total_bal_ex_mort</th>\n",
       "      <th>total_bc_limit</th>\n",
       "      <th>total_il_high_credit_limit</th>\n",
       "    </tr>\n",
       "  </thead>\n",
       "  <tbody>\n",
       "    <tr>\n",
       "      <th>0</th>\n",
       "      <td>1077501</td>\n",
       "      <td>1296599</td>\n",
       "      <td>5000</td>\n",
       "      <td>5000</td>\n",
       "      <td>4975.0</td>\n",
       "      <td>36 months</td>\n",
       "      <td>10.65%</td>\n",
       "      <td>162.87</td>\n",
       "      <td>B</td>\n",
       "      <td>B2</td>\n",
       "      <td>...</td>\n",
       "      <td>NaN</td>\n",
       "      <td>NaN</td>\n",
       "      <td>NaN</td>\n",
       "      <td>NaN</td>\n",
       "      <td>0.0</td>\n",
       "      <td>0.0</td>\n",
       "      <td>NaN</td>\n",
       "      <td>NaN</td>\n",
       "      <td>NaN</td>\n",
       "      <td>NaN</td>\n",
       "    </tr>\n",
       "    <tr>\n",
       "      <th>1</th>\n",
       "      <td>1077430</td>\n",
       "      <td>1314167</td>\n",
       "      <td>2500</td>\n",
       "      <td>2500</td>\n",
       "      <td>2500.0</td>\n",
       "      <td>60 months</td>\n",
       "      <td>15.27%</td>\n",
       "      <td>59.83</td>\n",
       "      <td>C</td>\n",
       "      <td>C4</td>\n",
       "      <td>...</td>\n",
       "      <td>NaN</td>\n",
       "      <td>NaN</td>\n",
       "      <td>NaN</td>\n",
       "      <td>NaN</td>\n",
       "      <td>0.0</td>\n",
       "      <td>0.0</td>\n",
       "      <td>NaN</td>\n",
       "      <td>NaN</td>\n",
       "      <td>NaN</td>\n",
       "      <td>NaN</td>\n",
       "    </tr>\n",
       "    <tr>\n",
       "      <th>2</th>\n",
       "      <td>1077175</td>\n",
       "      <td>1313524</td>\n",
       "      <td>2400</td>\n",
       "      <td>2400</td>\n",
       "      <td>2400.0</td>\n",
       "      <td>36 months</td>\n",
       "      <td>15.96%</td>\n",
       "      <td>84.33</td>\n",
       "      <td>C</td>\n",
       "      <td>C5</td>\n",
       "      <td>...</td>\n",
       "      <td>NaN</td>\n",
       "      <td>NaN</td>\n",
       "      <td>NaN</td>\n",
       "      <td>NaN</td>\n",
       "      <td>0.0</td>\n",
       "      <td>0.0</td>\n",
       "      <td>NaN</td>\n",
       "      <td>NaN</td>\n",
       "      <td>NaN</td>\n",
       "      <td>NaN</td>\n",
       "    </tr>\n",
       "    <tr>\n",
       "      <th>3</th>\n",
       "      <td>1076863</td>\n",
       "      <td>1277178</td>\n",
       "      <td>10000</td>\n",
       "      <td>10000</td>\n",
       "      <td>10000.0</td>\n",
       "      <td>36 months</td>\n",
       "      <td>13.49%</td>\n",
       "      <td>339.31</td>\n",
       "      <td>C</td>\n",
       "      <td>C1</td>\n",
       "      <td>...</td>\n",
       "      <td>NaN</td>\n",
       "      <td>NaN</td>\n",
       "      <td>NaN</td>\n",
       "      <td>NaN</td>\n",
       "      <td>0.0</td>\n",
       "      <td>0.0</td>\n",
       "      <td>NaN</td>\n",
       "      <td>NaN</td>\n",
       "      <td>NaN</td>\n",
       "      <td>NaN</td>\n",
       "    </tr>\n",
       "    <tr>\n",
       "      <th>4</th>\n",
       "      <td>1075358</td>\n",
       "      <td>1311748</td>\n",
       "      <td>3000</td>\n",
       "      <td>3000</td>\n",
       "      <td>3000.0</td>\n",
       "      <td>60 months</td>\n",
       "      <td>12.69%</td>\n",
       "      <td>67.79</td>\n",
       "      <td>B</td>\n",
       "      <td>B5</td>\n",
       "      <td>...</td>\n",
       "      <td>NaN</td>\n",
       "      <td>NaN</td>\n",
       "      <td>NaN</td>\n",
       "      <td>NaN</td>\n",
       "      <td>0.0</td>\n",
       "      <td>0.0</td>\n",
       "      <td>NaN</td>\n",
       "      <td>NaN</td>\n",
       "      <td>NaN</td>\n",
       "      <td>NaN</td>\n",
       "    </tr>\n",
       "  </tbody>\n",
       "</table>\n",
       "<p>5 rows × 111 columns</p>\n",
       "</div>"
      ],
      "text/plain": [
       "        id  member_id  loan_amnt  funded_amnt  funded_amnt_inv        term  \\\n",
       "0  1077501    1296599       5000         5000           4975.0   36 months   \n",
       "1  1077430    1314167       2500         2500           2500.0   60 months   \n",
       "2  1077175    1313524       2400         2400           2400.0   36 months   \n",
       "3  1076863    1277178      10000        10000          10000.0   36 months   \n",
       "4  1075358    1311748       3000         3000           3000.0   60 months   \n",
       "\n",
       "  int_rate  installment grade sub_grade  ... num_tl_90g_dpd_24m  \\\n",
       "0   10.65%       162.87     B        B2  ...                NaN   \n",
       "1   15.27%        59.83     C        C4  ...                NaN   \n",
       "2   15.96%        84.33     C        C5  ...                NaN   \n",
       "3   13.49%       339.31     C        C1  ...                NaN   \n",
       "4   12.69%        67.79     B        B5  ...                NaN   \n",
       "\n",
       "  num_tl_op_past_12m pct_tl_nvr_dlq  percent_bc_gt_75 pub_rec_bankruptcies  \\\n",
       "0                NaN            NaN               NaN                  0.0   \n",
       "1                NaN            NaN               NaN                  0.0   \n",
       "2                NaN            NaN               NaN                  0.0   \n",
       "3                NaN            NaN               NaN                  0.0   \n",
       "4                NaN            NaN               NaN                  0.0   \n",
       "\n",
       "  tax_liens tot_hi_cred_lim total_bal_ex_mort total_bc_limit  \\\n",
       "0       0.0             NaN               NaN            NaN   \n",
       "1       0.0             NaN               NaN            NaN   \n",
       "2       0.0             NaN               NaN            NaN   \n",
       "3       0.0             NaN               NaN            NaN   \n",
       "4       0.0             NaN               NaN            NaN   \n",
       "\n",
       "  total_il_high_credit_limit  \n",
       "0                        NaN  \n",
       "1                        NaN  \n",
       "2                        NaN  \n",
       "3                        NaN  \n",
       "4                        NaN  \n",
       "\n",
       "[5 rows x 111 columns]"
      ]
     },
     "execution_count": 4,
     "metadata": {},
     "output_type": "execute_result"
    }
   ],
   "source": [
    "loan_data.head()"
   ]
  },
  {
   "cell_type": "code",
   "execution_count": 7,
   "id": "75c90c53",
   "metadata": {},
   "outputs": [
    {
     "data": {
      "text/plain": [
       "(39717, 111)"
      ]
     },
     "execution_count": 7,
     "metadata": {},
     "output_type": "execute_result"
    }
   ],
   "source": [
    "loan_data.shape"
   ]
  },
  {
   "cell_type": "code",
   "execution_count": 8,
   "id": "1641e90e",
   "metadata": {},
   "outputs": [
    {
     "data": {
      "text/plain": [
       "id                                0\n",
       "member_id                         0\n",
       "loan_amnt                         0\n",
       "funded_amnt                       0\n",
       "funded_amnt_inv                   0\n",
       "                              ...  \n",
       "tax_liens                        39\n",
       "tot_hi_cred_lim               39717\n",
       "total_bal_ex_mort             39717\n",
       "total_bc_limit                39717\n",
       "total_il_high_credit_limit    39717\n",
       "Length: 111, dtype: int64"
      ]
     },
     "execution_count": 8,
     "metadata": {},
     "output_type": "execute_result"
    }
   ],
   "source": [
    "loan_data.isnull().sum()\n"
   ]
  },
  {
   "cell_type": "code",
   "execution_count": 9,
   "id": "b86e871e",
   "metadata": {},
   "outputs": [],
   "source": [
    "##Removing the columns with Null values "
   ]
  },
  {
   "cell_type": "code",
   "execution_count": 18,
   "id": "c690a4e4",
   "metadata": {},
   "outputs": [
    {
     "data": {
      "text/plain": [
       "(39717, 57)"
      ]
     },
     "execution_count": 18,
     "metadata": {},
     "output_type": "execute_result"
    }
   ],
   "source": [
    "loan_data.dropna(axis=1, how =\"all\", inplace=True)\n",
    "loan_data.shape"
   ]
  },
  {
   "cell_type": "code",
   "execution_count": 20,
   "id": "10be0795",
   "metadata": {},
   "outputs": [
    {
     "data": {
      "text/html": [
       "<div>\n",
       "<style scoped>\n",
       "    .dataframe tbody tr th:only-of-type {\n",
       "        vertical-align: middle;\n",
       "    }\n",
       "\n",
       "    .dataframe tbody tr th {\n",
       "        vertical-align: top;\n",
       "    }\n",
       "\n",
       "    .dataframe thead th {\n",
       "        text-align: right;\n",
       "    }\n",
       "</style>\n",
       "<table border=\"1\" class=\"dataframe\">\n",
       "  <thead>\n",
       "    <tr style=\"text-align: right;\">\n",
       "      <th></th>\n",
       "      <th>id</th>\n",
       "      <th>member_id</th>\n",
       "      <th>loan_amnt</th>\n",
       "      <th>funded_amnt</th>\n",
       "      <th>funded_amnt_inv</th>\n",
       "      <th>term</th>\n",
       "      <th>int_rate</th>\n",
       "      <th>installment</th>\n",
       "      <th>grade</th>\n",
       "      <th>sub_grade</th>\n",
       "      <th>...</th>\n",
       "      <th>next_pymnt_d</th>\n",
       "      <th>last_credit_pull_d</th>\n",
       "      <th>collections_12_mths_ex_med</th>\n",
       "      <th>policy_code</th>\n",
       "      <th>application_type</th>\n",
       "      <th>acc_now_delinq</th>\n",
       "      <th>chargeoff_within_12_mths</th>\n",
       "      <th>delinq_amnt</th>\n",
       "      <th>pub_rec_bankruptcies</th>\n",
       "      <th>tax_liens</th>\n",
       "    </tr>\n",
       "  </thead>\n",
       "  <tbody>\n",
       "    <tr>\n",
       "      <th>0</th>\n",
       "      <td>1077501</td>\n",
       "      <td>1296599</td>\n",
       "      <td>5000</td>\n",
       "      <td>5000</td>\n",
       "      <td>4975.0</td>\n",
       "      <td>36 months</td>\n",
       "      <td>10.65%</td>\n",
       "      <td>162.87</td>\n",
       "      <td>B</td>\n",
       "      <td>B2</td>\n",
       "      <td>...</td>\n",
       "      <td>NaN</td>\n",
       "      <td>May-16</td>\n",
       "      <td>0.0</td>\n",
       "      <td>1</td>\n",
       "      <td>INDIVIDUAL</td>\n",
       "      <td>0</td>\n",
       "      <td>0.0</td>\n",
       "      <td>0</td>\n",
       "      <td>0.0</td>\n",
       "      <td>0.0</td>\n",
       "    </tr>\n",
       "    <tr>\n",
       "      <th>1</th>\n",
       "      <td>1077430</td>\n",
       "      <td>1314167</td>\n",
       "      <td>2500</td>\n",
       "      <td>2500</td>\n",
       "      <td>2500.0</td>\n",
       "      <td>60 months</td>\n",
       "      <td>15.27%</td>\n",
       "      <td>59.83</td>\n",
       "      <td>C</td>\n",
       "      <td>C4</td>\n",
       "      <td>...</td>\n",
       "      <td>NaN</td>\n",
       "      <td>Sep-13</td>\n",
       "      <td>0.0</td>\n",
       "      <td>1</td>\n",
       "      <td>INDIVIDUAL</td>\n",
       "      <td>0</td>\n",
       "      <td>0.0</td>\n",
       "      <td>0</td>\n",
       "      <td>0.0</td>\n",
       "      <td>0.0</td>\n",
       "    </tr>\n",
       "    <tr>\n",
       "      <th>2</th>\n",
       "      <td>1077175</td>\n",
       "      <td>1313524</td>\n",
       "      <td>2400</td>\n",
       "      <td>2400</td>\n",
       "      <td>2400.0</td>\n",
       "      <td>36 months</td>\n",
       "      <td>15.96%</td>\n",
       "      <td>84.33</td>\n",
       "      <td>C</td>\n",
       "      <td>C5</td>\n",
       "      <td>...</td>\n",
       "      <td>NaN</td>\n",
       "      <td>May-16</td>\n",
       "      <td>0.0</td>\n",
       "      <td>1</td>\n",
       "      <td>INDIVIDUAL</td>\n",
       "      <td>0</td>\n",
       "      <td>0.0</td>\n",
       "      <td>0</td>\n",
       "      <td>0.0</td>\n",
       "      <td>0.0</td>\n",
       "    </tr>\n",
       "    <tr>\n",
       "      <th>3</th>\n",
       "      <td>1076863</td>\n",
       "      <td>1277178</td>\n",
       "      <td>10000</td>\n",
       "      <td>10000</td>\n",
       "      <td>10000.0</td>\n",
       "      <td>36 months</td>\n",
       "      <td>13.49%</td>\n",
       "      <td>339.31</td>\n",
       "      <td>C</td>\n",
       "      <td>C1</td>\n",
       "      <td>...</td>\n",
       "      <td>NaN</td>\n",
       "      <td>Apr-16</td>\n",
       "      <td>0.0</td>\n",
       "      <td>1</td>\n",
       "      <td>INDIVIDUAL</td>\n",
       "      <td>0</td>\n",
       "      <td>0.0</td>\n",
       "      <td>0</td>\n",
       "      <td>0.0</td>\n",
       "      <td>0.0</td>\n",
       "    </tr>\n",
       "    <tr>\n",
       "      <th>4</th>\n",
       "      <td>1075358</td>\n",
       "      <td>1311748</td>\n",
       "      <td>3000</td>\n",
       "      <td>3000</td>\n",
       "      <td>3000.0</td>\n",
       "      <td>60 months</td>\n",
       "      <td>12.69%</td>\n",
       "      <td>67.79</td>\n",
       "      <td>B</td>\n",
       "      <td>B5</td>\n",
       "      <td>...</td>\n",
       "      <td>Jun-16</td>\n",
       "      <td>May-16</td>\n",
       "      <td>0.0</td>\n",
       "      <td>1</td>\n",
       "      <td>INDIVIDUAL</td>\n",
       "      <td>0</td>\n",
       "      <td>0.0</td>\n",
       "      <td>0</td>\n",
       "      <td>0.0</td>\n",
       "      <td>0.0</td>\n",
       "    </tr>\n",
       "    <tr>\n",
       "      <th>5</th>\n",
       "      <td>1075269</td>\n",
       "      <td>1311441</td>\n",
       "      <td>5000</td>\n",
       "      <td>5000</td>\n",
       "      <td>5000.0</td>\n",
       "      <td>36 months</td>\n",
       "      <td>7.90%</td>\n",
       "      <td>156.46</td>\n",
       "      <td>A</td>\n",
       "      <td>A4</td>\n",
       "      <td>...</td>\n",
       "      <td>NaN</td>\n",
       "      <td>Jan-16</td>\n",
       "      <td>0.0</td>\n",
       "      <td>1</td>\n",
       "      <td>INDIVIDUAL</td>\n",
       "      <td>0</td>\n",
       "      <td>0.0</td>\n",
       "      <td>0</td>\n",
       "      <td>0.0</td>\n",
       "      <td>0.0</td>\n",
       "    </tr>\n",
       "    <tr>\n",
       "      <th>6</th>\n",
       "      <td>1069639</td>\n",
       "      <td>1304742</td>\n",
       "      <td>7000</td>\n",
       "      <td>7000</td>\n",
       "      <td>7000.0</td>\n",
       "      <td>60 months</td>\n",
       "      <td>15.96%</td>\n",
       "      <td>170.08</td>\n",
       "      <td>C</td>\n",
       "      <td>C5</td>\n",
       "      <td>...</td>\n",
       "      <td>NaN</td>\n",
       "      <td>May-16</td>\n",
       "      <td>0.0</td>\n",
       "      <td>1</td>\n",
       "      <td>INDIVIDUAL</td>\n",
       "      <td>0</td>\n",
       "      <td>0.0</td>\n",
       "      <td>0</td>\n",
       "      <td>0.0</td>\n",
       "      <td>0.0</td>\n",
       "    </tr>\n",
       "    <tr>\n",
       "      <th>7</th>\n",
       "      <td>1072053</td>\n",
       "      <td>1288686</td>\n",
       "      <td>3000</td>\n",
       "      <td>3000</td>\n",
       "      <td>3000.0</td>\n",
       "      <td>36 months</td>\n",
       "      <td>18.64%</td>\n",
       "      <td>109.43</td>\n",
       "      <td>E</td>\n",
       "      <td>E1</td>\n",
       "      <td>...</td>\n",
       "      <td>NaN</td>\n",
       "      <td>Dec-14</td>\n",
       "      <td>0.0</td>\n",
       "      <td>1</td>\n",
       "      <td>INDIVIDUAL</td>\n",
       "      <td>0</td>\n",
       "      <td>0.0</td>\n",
       "      <td>0</td>\n",
       "      <td>0.0</td>\n",
       "      <td>0.0</td>\n",
       "    </tr>\n",
       "    <tr>\n",
       "      <th>8</th>\n",
       "      <td>1071795</td>\n",
       "      <td>1306957</td>\n",
       "      <td>5600</td>\n",
       "      <td>5600</td>\n",
       "      <td>5600.0</td>\n",
       "      <td>60 months</td>\n",
       "      <td>21.28%</td>\n",
       "      <td>152.39</td>\n",
       "      <td>F</td>\n",
       "      <td>F2</td>\n",
       "      <td>...</td>\n",
       "      <td>NaN</td>\n",
       "      <td>Aug-12</td>\n",
       "      <td>0.0</td>\n",
       "      <td>1</td>\n",
       "      <td>INDIVIDUAL</td>\n",
       "      <td>0</td>\n",
       "      <td>0.0</td>\n",
       "      <td>0</td>\n",
       "      <td>0.0</td>\n",
       "      <td>0.0</td>\n",
       "    </tr>\n",
       "    <tr>\n",
       "      <th>9</th>\n",
       "      <td>1071570</td>\n",
       "      <td>1306721</td>\n",
       "      <td>5375</td>\n",
       "      <td>5375</td>\n",
       "      <td>5350.0</td>\n",
       "      <td>60 months</td>\n",
       "      <td>12.69%</td>\n",
       "      <td>121.45</td>\n",
       "      <td>B</td>\n",
       "      <td>B5</td>\n",
       "      <td>...</td>\n",
       "      <td>NaN</td>\n",
       "      <td>Mar-13</td>\n",
       "      <td>0.0</td>\n",
       "      <td>1</td>\n",
       "      <td>INDIVIDUAL</td>\n",
       "      <td>0</td>\n",
       "      <td>0.0</td>\n",
       "      <td>0</td>\n",
       "      <td>0.0</td>\n",
       "      <td>0.0</td>\n",
       "    </tr>\n",
       "  </tbody>\n",
       "</table>\n",
       "<p>10 rows × 57 columns</p>\n",
       "</div>"
      ],
      "text/plain": [
       "        id  member_id  loan_amnt  funded_amnt  funded_amnt_inv        term  \\\n",
       "0  1077501    1296599       5000         5000           4975.0   36 months   \n",
       "1  1077430    1314167       2500         2500           2500.0   60 months   \n",
       "2  1077175    1313524       2400         2400           2400.0   36 months   \n",
       "3  1076863    1277178      10000        10000          10000.0   36 months   \n",
       "4  1075358    1311748       3000         3000           3000.0   60 months   \n",
       "5  1075269    1311441       5000         5000           5000.0   36 months   \n",
       "6  1069639    1304742       7000         7000           7000.0   60 months   \n",
       "7  1072053    1288686       3000         3000           3000.0   36 months   \n",
       "8  1071795    1306957       5600         5600           5600.0   60 months   \n",
       "9  1071570    1306721       5375         5375           5350.0   60 months   \n",
       "\n",
       "  int_rate  installment grade sub_grade  ... next_pymnt_d last_credit_pull_d  \\\n",
       "0   10.65%       162.87     B        B2  ...          NaN             May-16   \n",
       "1   15.27%        59.83     C        C4  ...          NaN             Sep-13   \n",
       "2   15.96%        84.33     C        C5  ...          NaN             May-16   \n",
       "3   13.49%       339.31     C        C1  ...          NaN             Apr-16   \n",
       "4   12.69%        67.79     B        B5  ...       Jun-16             May-16   \n",
       "5    7.90%       156.46     A        A4  ...          NaN             Jan-16   \n",
       "6   15.96%       170.08     C        C5  ...          NaN             May-16   \n",
       "7   18.64%       109.43     E        E1  ...          NaN             Dec-14   \n",
       "8   21.28%       152.39     F        F2  ...          NaN             Aug-12   \n",
       "9   12.69%       121.45     B        B5  ...          NaN             Mar-13   \n",
       "\n",
       "  collections_12_mths_ex_med  policy_code application_type acc_now_delinq  \\\n",
       "0                        0.0            1       INDIVIDUAL              0   \n",
       "1                        0.0            1       INDIVIDUAL              0   \n",
       "2                        0.0            1       INDIVIDUAL              0   \n",
       "3                        0.0            1       INDIVIDUAL              0   \n",
       "4                        0.0            1       INDIVIDUAL              0   \n",
       "5                        0.0            1       INDIVIDUAL              0   \n",
       "6                        0.0            1       INDIVIDUAL              0   \n",
       "7                        0.0            1       INDIVIDUAL              0   \n",
       "8                        0.0            1       INDIVIDUAL              0   \n",
       "9                        0.0            1       INDIVIDUAL              0   \n",
       "\n",
       "  chargeoff_within_12_mths delinq_amnt pub_rec_bankruptcies tax_liens  \n",
       "0                      0.0           0                  0.0       0.0  \n",
       "1                      0.0           0                  0.0       0.0  \n",
       "2                      0.0           0                  0.0       0.0  \n",
       "3                      0.0           0                  0.0       0.0  \n",
       "4                      0.0           0                  0.0       0.0  \n",
       "5                      0.0           0                  0.0       0.0  \n",
       "6                      0.0           0                  0.0       0.0  \n",
       "7                      0.0           0                  0.0       0.0  \n",
       "8                      0.0           0                  0.0       0.0  \n",
       "9                      0.0           0                  0.0       0.0  \n",
       "\n",
       "[10 rows x 57 columns]"
      ]
     },
     "execution_count": 20,
     "metadata": {},
     "output_type": "execute_result"
    }
   ],
   "source": [
    "loan_data.head(10)"
   ]
  },
  {
   "cell_type": "code",
   "execution_count": 21,
   "id": "2f1440f8",
   "metadata": {},
   "outputs": [],
   "source": [
    "## Dropping the columns which are not required for analysis\n",
    "We have 57 columns and all 57 columns are not required for analysis\n",
    "Few of the columns like \"address\", \"id\", \"member id\", \"url\", \"zip_code\", \"title\" etc are irrelevent\n",
    "Few of the columns are related to post approval of loan\n",
    "All these columns can be safely removed before proceeding with the analysis\n",
    "\n"
   ]
  },
  {
   "cell_type": "code",
   "execution_count": 22,
   "id": "8c3f11ae",
   "metadata": {},
   "outputs": [
    {
     "name": "stdout",
     "output_type": "stream",
     "text": [
      "Index(['id', 'member_id', 'loan_amnt', 'funded_amnt', 'funded_amnt_inv',\n",
      "       'term', 'int_rate', 'installment', 'grade', 'sub_grade', 'emp_title',\n",
      "       'emp_length', 'home_ownership', 'annual_inc', 'verification_status',\n",
      "       'issue_d', 'loan_status', 'pymnt_plan', 'url', 'desc', 'purpose',\n",
      "       'title', 'zip_code', 'addr_state', 'dti', 'delinq_2yrs',\n",
      "       'earliest_cr_line', 'inq_last_6mths', 'mths_since_last_delinq',\n",
      "       'mths_since_last_record', 'open_acc', 'pub_rec', 'revol_bal',\n",
      "       'revol_util', 'total_acc', 'initial_list_status', 'out_prncp',\n",
      "       'out_prncp_inv', 'total_pymnt', 'total_pymnt_inv', 'total_rec_prncp',\n",
      "       'total_rec_int', 'total_rec_late_fee', 'recoveries',\n",
      "       'collection_recovery_fee', 'last_pymnt_d', 'last_pymnt_amnt',\n",
      "       'next_pymnt_d', 'last_credit_pull_d', 'collections_12_mths_ex_med',\n",
      "       'policy_code', 'application_type', 'acc_now_delinq',\n",
      "       'chargeoff_within_12_mths', 'delinq_amnt', 'pub_rec_bankruptcies',\n",
      "       'tax_liens'],\n",
      "      dtype='object')\n"
     ]
    }
   ],
   "source": [
    "print(loan_data.columns)"
   ]
  },
  {
   "cell_type": "code",
   "execution_count": 91,
   "id": "2b3e5842",
   "metadata": {},
   "outputs": [],
   "source": [
    "loan_data.drop(['id','member_id','url', 'desc','title', 'zip_code', 'addr_state','last_pymnt_d', 'last_pymnt_amnt','next_pymnt_d', 'last_credit_pull_d', 'collections_12_mths_ex_med','policy_code','tax_liens'], axis=1, inplace=True)\n"
   ]
  },
  {
   "cell_type": "code",
   "execution_count": 29,
   "id": "5fbddacf",
   "metadata": {},
   "outputs": [
    {
     "data": {
      "text/plain": [
       "Index(['loan_amnt', 'funded_amnt', 'funded_amnt_inv', 'term', 'int_rate',\n",
       "       'installment', 'grade', 'sub_grade', 'emp_title', 'emp_length',\n",
       "       'home_ownership', 'annual_inc', 'verification_status', 'issue_d',\n",
       "       'loan_status', 'pymnt_plan', 'dti', 'delinq_2yrs', 'earliest_cr_line',\n",
       "       'inq_last_6mths', 'mths_since_last_delinq', 'mths_since_last_record',\n",
       "       'open_acc', 'pub_rec', 'revol_bal', 'revol_util', 'total_acc',\n",
       "       'initial_list_status', 'out_prncp', 'out_prncp_inv', 'total_pymnt',\n",
       "       'total_pymnt_inv', 'total_rec_prncp', 'total_rec_int',\n",
       "       'total_rec_late_fee', 'recoveries', 'collection_recovery_fee',\n",
       "       'acc_now_delinq', 'chargeoff_within_12_mths', 'delinq_amnt',\n",
       "       'pub_rec_bankruptcies'],\n",
       "      dtype='object')"
      ]
     },
     "execution_count": 29,
     "metadata": {},
     "output_type": "execute_result"
    }
   ],
   "source": [
    "loan_data.shape\n",
    "loan_data.columns\n"
   ]
  },
  {
   "cell_type": "code",
   "execution_count": 30,
   "id": "00ceb224",
   "metadata": {},
   "outputs": [
    {
     "data": {
      "text/plain": [
       "(39717, 41)"
      ]
     },
     "execution_count": 30,
     "metadata": {},
     "output_type": "execute_result"
    }
   ],
   "source": [
    "loan_data.shape"
   ]
  },
  {
   "cell_type": "code",
   "execution_count": 35,
   "id": "a317271e",
   "metadata": {},
   "outputs": [],
   "source": [
    "##Further analysing the columns which might be required for the analysis on the features for loan Default\n",
    "Going throgh the data set and researching on domain, we found that columns such as 'loan_amnt', 'funded_amnt', 'funded_amnt_inv',\n",
    "'term', 'int_rate','installment', 'home_ownership', 'annual_inc', 'verification_status','total_pymnt'and 'total_acc' contribute\n",
    "much to the analysis based on which we can find the features of Default customers. So removing rest of the columns."
   ]
  },
  {
   "cell_type": "code",
   "execution_count": 36,
   "id": "5311ba0b",
   "metadata": {},
   "outputs": [],
   "source": [
    "loan_data.drop([\n",
    "       'grade', 'sub_grade', 'emp_title',\n",
    "       'dti', 'delinq_2yrs', 'earliest_cr_line',\n",
    "       'inq_last_6mths', 'mths_since_last_delinq', 'mths_since_last_record',\n",
    "       'open_acc', 'pub_rec', 'revol_bal', 'revol_util',\n",
    "       'initial_list_status', 'out_prncp', 'out_prncp_inv','total_pymnt_inv', 'total_rec_prncp', 'total_rec_int',\n",
    "        'recoveries', 'collection_recovery_fee',\n",
    "       'acc_now_delinq', 'delinq_amnt',\n",
    "       ], axis=1, inplace=True)"
   ]
  },
  {
   "cell_type": "code",
   "execution_count": 37,
   "id": "024a779b",
   "metadata": {},
   "outputs": [
    {
     "name": "stdout",
     "output_type": "stream",
     "text": [
      "<class 'pandas.core.frame.DataFrame'>\n",
      "RangeIndex: 39717 entries, 0 to 39716\n",
      "Data columns (total 18 columns):\n",
      " #   Column                    Non-Null Count  Dtype  \n",
      "---  ------                    --------------  -----  \n",
      " 0   loan_amnt                 39717 non-null  int64  \n",
      " 1   funded_amnt               39717 non-null  int64  \n",
      " 2   funded_amnt_inv           39717 non-null  float64\n",
      " 3   term                      39717 non-null  object \n",
      " 4   int_rate                  39717 non-null  object \n",
      " 5   installment               39717 non-null  float64\n",
      " 6   emp_length                38642 non-null  object \n",
      " 7   home_ownership            39717 non-null  object \n",
      " 8   annual_inc                39717 non-null  float64\n",
      " 9   verification_status       39717 non-null  object \n",
      " 10  issue_d                   39717 non-null  object \n",
      " 11  loan_status               39717 non-null  object \n",
      " 12  pymnt_plan                39717 non-null  object \n",
      " 13  total_acc                 39717 non-null  int64  \n",
      " 14  total_pymnt               39717 non-null  float64\n",
      " 15  total_rec_late_fee        39717 non-null  float64\n",
      " 16  chargeoff_within_12_mths  39661 non-null  float64\n",
      " 17  pub_rec_bankruptcies      39020 non-null  float64\n",
      "dtypes: float64(7), int64(3), object(8)\n",
      "memory usage: 5.5+ MB\n"
     ]
    }
   ],
   "source": [
    "loan_data.info()"
   ]
  },
  {
   "cell_type": "code",
   "execution_count": 39,
   "id": "728683db",
   "metadata": {},
   "outputs": [],
   "source": [
    "#Now we found that there are 2 columns \"chargeoff_within_12_mths\",\"emp_length\"and \"pub_rec_bankruptcies\". \n",
    "##So lets check and work on the null values"
   ]
  },
  {
   "cell_type": "code",
   "execution_count": 41,
   "id": "16dfcc32",
   "metadata": {},
   "outputs": [
    {
     "data": {
      "text/plain": [
       "emp_length                  1075\n",
       "pub_rec_bankruptcies         697\n",
       "chargeoff_within_12_mths      56\n",
       "issue_d                        0\n",
       "total_rec_late_fee             0\n",
       "total_pymnt                    0\n",
       "total_acc                      0\n",
       "pymnt_plan                     0\n",
       "loan_status                    0\n",
       "loan_amnt                      0\n",
       "funded_amnt                    0\n",
       "annual_inc                     0\n",
       "home_ownership                 0\n",
       "installment                    0\n",
       "int_rate                       0\n",
       "term                           0\n",
       "funded_amnt_inv                0\n",
       "verification_status            0\n",
       "dtype: int64"
      ]
     },
     "execution_count": 41,
     "metadata": {},
     "output_type": "execute_result"
    }
   ],
   "source": [
    "loan_data.isnull().sum().sort_values(ascending=False)"
   ]
  },
  {
   "cell_type": "code",
   "execution_count": 42,
   "id": "1c485c0f",
   "metadata": {},
   "outputs": [
    {
     "data": {
      "text/plain": [
       "10+ years    8879\n",
       "< 1 year     4583\n",
       "2 years      4388\n",
       "3 years      4095\n",
       "4 years      3436\n",
       "5 years      3282\n",
       "1 year       3240\n",
       "6 years      2229\n",
       "7 years      1773\n",
       "8 years      1479\n",
       "9 years      1258\n",
       "Name: emp_length, dtype: int64"
      ]
     },
     "execution_count": 42,
     "metadata": {},
     "output_type": "execute_result"
    }
   ],
   "source": [
    "# Checking values in emp_length columns for feasibility of inserting null values\n",
    "loan_data.emp_length.value_counts()"
   ]
  },
  {
   "cell_type": "code",
   "execution_count": 43,
   "id": "c702a3d2",
   "metadata": {},
   "outputs": [
    {
     "data": {
      "text/plain": [
       "0"
      ]
     },
     "execution_count": 43,
     "metadata": {},
     "output_type": "execute_result"
    }
   ],
   "source": [
    "loan_data.emp_length.fillna(loan_data.emp_length.mode()[0], inplace = True)\n",
    "loan_data.emp_length.isnull().sum()"
   ]
  },
  {
   "cell_type": "code",
   "execution_count": 44,
   "id": "fb9b09b2",
   "metadata": {},
   "outputs": [
    {
     "data": {
      "text/plain": [
       "0.0    37339\n",
       "1.0     1674\n",
       "2.0        7\n",
       "Name: pub_rec_bankruptcies, dtype: int64"
      ]
     },
     "execution_count": 44,
     "metadata": {},
     "output_type": "execute_result"
    }
   ],
   "source": [
    "# Checking values in emp_length columns for feasibility of inserting null values\n",
    "loan_data.pub_rec_bankruptcies.value_counts()"
   ]
  },
  {
   "cell_type": "code",
   "execution_count": 45,
   "id": "07b9e863",
   "metadata": {},
   "outputs": [],
   "source": [
    "##As for the column 'pub_rec_bankruptcies', the data mostly has value 0 which can be subsitued in place of null as that \n",
    "##will have no impact on the analysis.\n",
    "\n"
   ]
  },
  {
   "cell_type": "code",
   "execution_count": 46,
   "id": "56f7e854",
   "metadata": {},
   "outputs": [
    {
     "data": {
      "text/plain": [
       "0"
      ]
     },
     "execution_count": 46,
     "metadata": {},
     "output_type": "execute_result"
    }
   ],
   "source": [
    "loan_data.pub_rec_bankruptcies.fillna(0, inplace = True)\n",
    "loan_data.pub_rec_bankruptcies.isnull().sum()"
   ]
  },
  {
   "cell_type": "code",
   "execution_count": 47,
   "id": "a783ece7",
   "metadata": {},
   "outputs": [
    {
     "data": {
      "text/plain": [
       "loan_amnt                    0\n",
       "funded_amnt                  0\n",
       "funded_amnt_inv              0\n",
       "term                         0\n",
       "int_rate                     0\n",
       "installment                  0\n",
       "emp_length                   0\n",
       "home_ownership               0\n",
       "annual_inc                   0\n",
       "verification_status          0\n",
       "issue_d                      0\n",
       "loan_status                  0\n",
       "pymnt_plan                   0\n",
       "total_acc                    0\n",
       "total_pymnt                  0\n",
       "total_rec_late_fee           0\n",
       "chargeoff_within_12_mths    56\n",
       "pub_rec_bankruptcies         0\n",
       "dtype: int64"
      ]
     },
     "execution_count": 47,
     "metadata": {},
     "output_type": "execute_result"
    }
   ],
   "source": [
    "loan_data.isnull().sum()"
   ]
  },
  {
   "cell_type": "code",
   "execution_count": 48,
   "id": "b9e707aa",
   "metadata": {},
   "outputs": [
    {
     "data": {
      "text/plain": [
       "0.0    39661\n",
       "Name: chargeoff_within_12_mths, dtype: int64"
      ]
     },
     "execution_count": 48,
     "metadata": {},
     "output_type": "execute_result"
    }
   ],
   "source": [
    "loan_data.chargeoff_within_12_mths.value_counts()"
   ]
  },
  {
   "cell_type": "code",
   "execution_count": 49,
   "id": "27815368",
   "metadata": {},
   "outputs": [],
   "source": [
    "#Since 39661 rows have unique values, this column can be removed instead of working on null values"
   ]
  },
  {
   "cell_type": "code",
   "execution_count": 50,
   "id": "6695ca0f",
   "metadata": {},
   "outputs": [],
   "source": [
    "loan_data.drop(\"chargeoff_within_12_mths\", axis=1, inplace=True)"
   ]
  },
  {
   "cell_type": "code",
   "execution_count": 52,
   "id": "7c8f21ab",
   "metadata": {},
   "outputs": [
    {
     "data": {
      "text/plain": [
       "loan_amnt               0\n",
       "funded_amnt             0\n",
       "funded_amnt_inv         0\n",
       "term                    0\n",
       "int_rate                0\n",
       "installment             0\n",
       "emp_length              0\n",
       "home_ownership          0\n",
       "annual_inc              0\n",
       "verification_status     0\n",
       "issue_d                 0\n",
       "loan_status             0\n",
       "pymnt_plan              0\n",
       "total_acc               0\n",
       "total_pymnt             0\n",
       "total_rec_late_fee      0\n",
       "pub_rec_bankruptcies    0\n",
       "dtype: int64"
      ]
     },
     "execution_count": 52,
     "metadata": {},
     "output_type": "execute_result"
    }
   ],
   "source": [
    "loan_data.isnull().sum()"
   ]
  },
  {
   "cell_type": "code",
   "execution_count": 53,
   "id": "f2e32ae3",
   "metadata": {},
   "outputs": [],
   "source": [
    "##The goal of the analysis is to see who is likely to default and this can only be said in case of either fully paid or charged off loans.\n",
    "We cannot make anything up for the current loans.\n",
    "To exclude that data , removing the records with current loan status"
   ]
  },
  {
   "cell_type": "code",
   "execution_count": 59,
   "id": "a0d73d73",
   "metadata": {},
   "outputs": [
    {
     "data": {
      "text/plain": [
       "array(['Fully Paid', 'Charged Off', 'Current'], dtype=object)"
      ]
     },
     "execution_count": 59,
     "metadata": {},
     "output_type": "execute_result"
    }
   ],
   "source": [
    "loan_data.loan_status.unique()"
   ]
  },
  {
   "cell_type": "code",
   "execution_count": 60,
   "id": "8fc4723e",
   "metadata": {},
   "outputs": [],
   "source": [
    "loan_data=loan_data[loan_data.loan_status!=\"Current\"]"
   ]
  },
  {
   "cell_type": "code",
   "execution_count": 61,
   "id": "22b773a9",
   "metadata": {},
   "outputs": [
    {
     "data": {
      "text/plain": [
       "array(['Fully Paid', 'Charged Off'], dtype=object)"
      ]
     },
     "execution_count": 61,
     "metadata": {},
     "output_type": "execute_result"
    }
   ],
   "source": [
    "loan_data.loan_status.unique()"
   ]
  },
  {
   "cell_type": "code",
   "execution_count": 62,
   "id": "e1800482",
   "metadata": {},
   "outputs": [],
   "source": [
    "## Standardizing the columns \"emp_length\" and \"int_rate\" columns"
   ]
  },
  {
   "cell_type": "code",
   "execution_count": 63,
   "id": "7c9cb4c3",
   "metadata": {},
   "outputs": [],
   "source": [
    "loan_data.int_rate = pd.to_numeric(loan_data.int_rate.apply(lambda x : x.split('%')[0]))"
   ]
  },
  {
   "cell_type": "code",
   "execution_count": 64,
   "id": "ed402383",
   "metadata": {},
   "outputs": [],
   "source": [
    "loan_data.emp_length = pd.to_numeric(loan_data.emp_length.apply(lambda x : 0 if \"<\" in x else (x.split('+')[0] if \"+\" in x else x.split()[0])))"
   ]
  },
  {
   "cell_type": "code",
   "execution_count": 65,
   "id": "a9499532",
   "metadata": {},
   "outputs": [
    {
     "data": {
      "text/html": [
       "<div>\n",
       "<style scoped>\n",
       "    .dataframe tbody tr th:only-of-type {\n",
       "        vertical-align: middle;\n",
       "    }\n",
       "\n",
       "    .dataframe tbody tr th {\n",
       "        vertical-align: top;\n",
       "    }\n",
       "\n",
       "    .dataframe thead th {\n",
       "        text-align: right;\n",
       "    }\n",
       "</style>\n",
       "<table border=\"1\" class=\"dataframe\">\n",
       "  <thead>\n",
       "    <tr style=\"text-align: right;\">\n",
       "      <th></th>\n",
       "      <th>loan_amnt</th>\n",
       "      <th>funded_amnt</th>\n",
       "      <th>funded_amnt_inv</th>\n",
       "      <th>term</th>\n",
       "      <th>int_rate</th>\n",
       "      <th>installment</th>\n",
       "      <th>emp_length</th>\n",
       "      <th>home_ownership</th>\n",
       "      <th>annual_inc</th>\n",
       "      <th>verification_status</th>\n",
       "      <th>issue_d</th>\n",
       "      <th>loan_status</th>\n",
       "      <th>pymnt_plan</th>\n",
       "      <th>total_acc</th>\n",
       "      <th>total_pymnt</th>\n",
       "      <th>total_rec_late_fee</th>\n",
       "      <th>pub_rec_bankruptcies</th>\n",
       "    </tr>\n",
       "  </thead>\n",
       "  <tbody>\n",
       "    <tr>\n",
       "      <th>0</th>\n",
       "      <td>5000</td>\n",
       "      <td>5000</td>\n",
       "      <td>4975.0</td>\n",
       "      <td>36 months</td>\n",
       "      <td>10.65</td>\n",
       "      <td>162.87</td>\n",
       "      <td>10</td>\n",
       "      <td>RENT</td>\n",
       "      <td>24000.0</td>\n",
       "      <td>Verified</td>\n",
       "      <td>Dec-11</td>\n",
       "      <td>Fully Paid</td>\n",
       "      <td>n</td>\n",
       "      <td>9</td>\n",
       "      <td>5863.155187</td>\n",
       "      <td>0.00</td>\n",
       "      <td>0.0</td>\n",
       "    </tr>\n",
       "    <tr>\n",
       "      <th>1</th>\n",
       "      <td>2500</td>\n",
       "      <td>2500</td>\n",
       "      <td>2500.0</td>\n",
       "      <td>60 months</td>\n",
       "      <td>15.27</td>\n",
       "      <td>59.83</td>\n",
       "      <td>0</td>\n",
       "      <td>RENT</td>\n",
       "      <td>30000.0</td>\n",
       "      <td>Source Verified</td>\n",
       "      <td>Dec-11</td>\n",
       "      <td>Charged Off</td>\n",
       "      <td>n</td>\n",
       "      <td>4</td>\n",
       "      <td>1008.710000</td>\n",
       "      <td>0.00</td>\n",
       "      <td>0.0</td>\n",
       "    </tr>\n",
       "    <tr>\n",
       "      <th>2</th>\n",
       "      <td>2400</td>\n",
       "      <td>2400</td>\n",
       "      <td>2400.0</td>\n",
       "      <td>36 months</td>\n",
       "      <td>15.96</td>\n",
       "      <td>84.33</td>\n",
       "      <td>10</td>\n",
       "      <td>RENT</td>\n",
       "      <td>12252.0</td>\n",
       "      <td>Not Verified</td>\n",
       "      <td>Dec-11</td>\n",
       "      <td>Fully Paid</td>\n",
       "      <td>n</td>\n",
       "      <td>10</td>\n",
       "      <td>3005.666844</td>\n",
       "      <td>0.00</td>\n",
       "      <td>0.0</td>\n",
       "    </tr>\n",
       "    <tr>\n",
       "      <th>3</th>\n",
       "      <td>10000</td>\n",
       "      <td>10000</td>\n",
       "      <td>10000.0</td>\n",
       "      <td>36 months</td>\n",
       "      <td>13.49</td>\n",
       "      <td>339.31</td>\n",
       "      <td>10</td>\n",
       "      <td>RENT</td>\n",
       "      <td>49200.0</td>\n",
       "      <td>Source Verified</td>\n",
       "      <td>Dec-11</td>\n",
       "      <td>Fully Paid</td>\n",
       "      <td>n</td>\n",
       "      <td>37</td>\n",
       "      <td>12231.890000</td>\n",
       "      <td>16.97</td>\n",
       "      <td>0.0</td>\n",
       "    </tr>\n",
       "    <tr>\n",
       "      <th>5</th>\n",
       "      <td>5000</td>\n",
       "      <td>5000</td>\n",
       "      <td>5000.0</td>\n",
       "      <td>36 months</td>\n",
       "      <td>7.90</td>\n",
       "      <td>156.46</td>\n",
       "      <td>3</td>\n",
       "      <td>RENT</td>\n",
       "      <td>36000.0</td>\n",
       "      <td>Source Verified</td>\n",
       "      <td>Dec-11</td>\n",
       "      <td>Fully Paid</td>\n",
       "      <td>n</td>\n",
       "      <td>12</td>\n",
       "      <td>5632.210000</td>\n",
       "      <td>0.00</td>\n",
       "      <td>0.0</td>\n",
       "    </tr>\n",
       "  </tbody>\n",
       "</table>\n",
       "</div>"
      ],
      "text/plain": [
       "   loan_amnt  funded_amnt  funded_amnt_inv        term  int_rate  installment  \\\n",
       "0       5000         5000           4975.0   36 months     10.65       162.87   \n",
       "1       2500         2500           2500.0   60 months     15.27        59.83   \n",
       "2       2400         2400           2400.0   36 months     15.96        84.33   \n",
       "3      10000        10000          10000.0   36 months     13.49       339.31   \n",
       "5       5000         5000           5000.0   36 months      7.90       156.46   \n",
       "\n",
       "   emp_length home_ownership  annual_inc verification_status issue_d  \\\n",
       "0          10           RENT     24000.0            Verified  Dec-11   \n",
       "1           0           RENT     30000.0     Source Verified  Dec-11   \n",
       "2          10           RENT     12252.0        Not Verified  Dec-11   \n",
       "3          10           RENT     49200.0     Source Verified  Dec-11   \n",
       "5           3           RENT     36000.0     Source Verified  Dec-11   \n",
       "\n",
       "   loan_status pymnt_plan  total_acc   total_pymnt  total_rec_late_fee  \\\n",
       "0   Fully Paid          n          9   5863.155187                0.00   \n",
       "1  Charged Off          n          4   1008.710000                0.00   \n",
       "2   Fully Paid          n         10   3005.666844                0.00   \n",
       "3   Fully Paid          n         37  12231.890000               16.97   \n",
       "5   Fully Paid          n         12   5632.210000                0.00   \n",
       "\n",
       "   pub_rec_bankruptcies  \n",
       "0                   0.0  \n",
       "1                   0.0  \n",
       "2                   0.0  \n",
       "3                   0.0  \n",
       "5                   0.0  "
      ]
     },
     "execution_count": 65,
     "metadata": {},
     "output_type": "execute_result"
    }
   ],
   "source": [
    "loan_data.head()"
   ]
  },
  {
   "cell_type": "code",
   "execution_count": 66,
   "id": "c190b368",
   "metadata": {},
   "outputs": [],
   "source": [
    "#Now that the data is clean and standardized, lets dive into every column and remove the outliers."
   ]
  },
  {
   "cell_type": "code",
   "execution_count": 69,
   "id": "70f32195",
   "metadata": {},
   "outputs": [
    {
     "data": {
      "text/plain": [
       "<AxesSubplot:xlabel='annual_inc'>"
      ]
     },
     "execution_count": 69,
     "metadata": {},
     "output_type": "execute_result"
    },
    {
     "data": {
      "image/png": "[encoded data removed]",
      "text/plain": [
       "<Figure size 432x288 with 1 Axes>"
      ]
     },
     "metadata": {
      "needs_background": "light"
     },
     "output_type": "display_data"
    }
   ],
   "source": [
    "sns.boxplot(loan_data[\"annual_inc\"])"
   ]
  },
  {
   "cell_type": "code",
   "execution_count": 71,
   "id": "0717a708",
   "metadata": {},
   "outputs": [],
   "source": [
    "##The box plot clearly indicates the presence of outliers and seems to be above 95th percentile.\n",
    "#Taking the quantile of 95 percentile as threshold to remove the outliers"
   ]
  },
  {
   "cell_type": "code",
   "execution_count": 73,
   "id": "27538354",
   "metadata": {},
   "outputs": [
    {
     "data": {
      "text/plain": [
       "0.50     58868.0\n",
       "0.75     82000.0\n",
       "0.90    115000.0\n",
       "0.95    140004.0\n",
       "0.97    165000.0\n",
       "0.98    187000.0\n",
       "0.99    234144.0\n",
       "Name: annual_inc, dtype: float64"
      ]
     },
     "execution_count": 73,
     "metadata": {},
     "output_type": "execute_result"
    }
   ],
   "source": [
    "quantile_info = loan_data.annual_inc.quantile([0.5, 0.75,0.90, 0.95, 0.97,0.98, 0.99])\n",
    "quantile_info"
   ]
  },
  {
   "cell_type": "code",
   "execution_count": 77,
   "id": "f6d79fb0",
   "metadata": {},
   "outputs": [],
   "source": [
    "annual_inc_95perc = loan_data.annual_inc.quantile(0.95)"
   ]
  },
  {
   "cell_type": "code",
   "execution_count": 79,
   "id": "2a022b21",
   "metadata": {},
   "outputs": [
    {
     "data": {
      "text/plain": [
       "<AxesSubplot:xlabel='annual_inc'>"
      ]
     },
     "execution_count": 79,
     "metadata": {},
     "output_type": "execute_result"
    },
    {
     "data": {
      "image/png": "[encoded data removed]",
      "text/plain": [
       "<Figure size 432x288 with 1 Axes>"
      ]
     },
     "metadata": {
      "needs_background": "light"
     },
     "output_type": "display_data"
    }
   ],
   "source": [
    "loan_data= loan_data[loan_data.annual_inc<=annual_inc_95perc]\n",
    "sns.boxplot(loan_data.annual_inc)"
   ]
  },
  {
   "cell_type": "code",
   "execution_count": 80,
   "id": "1b7132e1",
   "metadata": {},
   "outputs": [
    {
     "data": {
      "text/plain": [
       "<AxesSubplot:xlabel='loan_amnt'>"
      ]
     },
     "execution_count": 80,
     "metadata": {},
     "output_type": "execute_result"
    },
    {
     "data": {
      "image/png": "[encoded data removed]",
      "text/plain": [
       "<Figure size 432x288 with 1 Axes>"
      ]
     },
     "metadata": {
      "needs_background": "light"
     },
     "output_type": "display_data"
    }
   ],
   "source": [
    "sns.boxplot(loan_data['loan_amnt'])"
   ]
  },
  {
   "cell_type": "code",
   "execution_count": 82,
   "id": "a88b0a5b",
   "metadata": {},
   "outputs": [
    {
     "data": {
      "text/plain": [
       "<AxesSubplot:xlabel='funded_amnt'>"
      ]
     },
     "execution_count": 82,
     "metadata": {},
     "output_type": "execute_result"
    },
    {
     "data": {
      "image/png": "[encoded data removed]",
      "text/plain": [
       "<Figure size 432x288 with 1 Axes>"
      ]
     },
     "metadata": {
      "needs_background": "light"
     },
     "output_type": "display_data"
    }
   ],
   "source": [
    "sns.boxplot(loan_data['funded_amnt'])"
   ]
  },
  {
   "cell_type": "code",
   "execution_count": 83,
   "id": "b30edf88",
   "metadata": {},
   "outputs": [
    {
     "data": {
      "text/plain": [
       "<AxesSubplot:xlabel='loan_amnt'>"
      ]
     },
     "execution_count": 83,
     "metadata": {},
     "output_type": "execute_result"
    },
    {
     "data": {
      "image/png": "[encoded data removed]",
      "text/plain": [
       "<Figure size 432x288 with 1 Axes>"
      ]
     },
     "metadata": {
      "needs_background": "light"
     },
     "output_type": "display_data"
    }
   ],
   "source": [
    "sns.boxplot(loan_data['loan_amnt'])"
   ]
  },
  {
   "cell_type": "code",
   "execution_count": 84,
   "id": "0427b7b9",
   "metadata": {},
   "outputs": [
    {
     "data": {
      "text/plain": [
       "<AxesSubplot:xlabel='funded_amnt_inv'>"
      ]
     },
     "execution_count": 84,
     "metadata": {},
     "output_type": "execute_result"
    },
    {
     "data": {
      "image/png": "[encoded data removed]",
      "text/plain": [
       "<Figure size 432x288 with 1 Axes>"
      ]
     },
     "metadata": {
      "needs_background": "light"
     },
     "output_type": "display_data"
    }
   ],
   "source": [
    "sns.boxplot(loan_data['funded_amnt_inv'])"
   ]
  },
  {
   "cell_type": "code",
   "execution_count": 92,
   "id": "e7789b97",
   "metadata": {},
   "outputs": [],
   "source": [
    "##Although some outliers could be seen in a few required numerical data , they are not significant and disturbation seem to be even\n",
    "#Going ahead with analysis of categorical variables."
   ]
  },
  {
   "cell_type": "code",
   "execution_count": 93,
   "id": "99a3b699",
   "metadata": {},
   "outputs": [
    {
     "data": {
      "text/plain": [
       "<AxesSubplot:xlabel='loan_status', ylabel='count'>"
      ]
     },
     "execution_count": 93,
     "metadata": {},
     "output_type": "execute_result"
    },
    {
     "data": {
      "image/png": "[encoded data removed]",
      "text/plain": [
       "<Figure size 432x288 with 1 Axes>"
      ]
     },
     "metadata": {
      "needs_background": "light"
     },
     "output_type": "display_data"
    }
   ],
   "source": [
    "sns.countplot(loan_data['loan_status'])"
   ]
  },
  {
   "cell_type": "code",
   "execution_count": 94,
   "id": "588d2c61",
   "metadata": {},
   "outputs": [],
   "source": [
    "##From the above graph its clear that the count of 'fully paid' is high and the 'charged off' ones are considerably low."
   ]
  },
  {
   "cell_type": "code",
   "execution_count": 95,
   "id": "85cbc310",
   "metadata": {},
   "outputs": [
    {
     "data": {
      "text/plain": [
       "<AxesSubplot:xlabel='home_ownership', ylabel='count'>"
      ]
     },
     "execution_count": 95,
     "metadata": {},
     "output_type": "execute_result"
    },
    {
     "data": {
      "image/png": "[encoded data removed]",
      "text/plain": [
       "<Figure size 432x288 with 1 Axes>"
      ]
     },
     "metadata": {
      "needs_background": "light"
     },
     "output_type": "display_data"
    }
   ],
   "source": [
    "sns.countplot(loan_data['home_ownership'])"
   ]
  },
  {
   "cell_type": "code",
   "execution_count": 96,
   "id": "a4c5a028",
   "metadata": {},
   "outputs": [],
   "source": [
    "##Here we see that rows with 'NONE' value is almost 0. So we can replace these values by 'OTHER'"
   ]
  },
  {
   "cell_type": "code",
   "execution_count": 97,
   "id": "0fdd1a88",
   "metadata": {},
   "outputs": [],
   "source": [
    "loan_data.home_ownership.replace(to_replace = ['NONE'],value='OTHER',inplace = True)"
   ]
  },
  {
   "cell_type": "code",
   "execution_count": 98,
   "id": "57202aba",
   "metadata": {},
   "outputs": [
    {
     "data": {
      "text/plain": [
       "array(['RENT', 'OWN', 'MORTGAGE', 'OTHER'], dtype=object)"
      ]
     },
     "execution_count": 98,
     "metadata": {},
     "output_type": "execute_result"
    }
   ],
   "source": [
    "##Checking the unique values now\n",
    "loan_data.home_ownership.unique()"
   ]
  },
  {
   "cell_type": "code",
   "execution_count": 99,
   "id": "c5cab594",
   "metadata": {},
   "outputs": [],
   "source": [
    "##NONE value is now not seen and can be proceeded with analysis considering 'Charged Off' loan Status."
   ]
  },
  {
   "cell_type": "code",
   "execution_count": 104,
   "id": "d205b4b0",
   "metadata": {},
   "outputs": [
    {
     "data": {
      "text/plain": [
       "<AxesSubplot:xlabel='home_ownership', ylabel='count'>"
      ]
     },
     "execution_count": 104,
     "metadata": {},
     "output_type": "execute_result"
    },
    {
     "data": {
      "image/png": "[encoded data removed]",
      "text/plain": [
       "<Figure size 432x288 with 1 Axes>"
      ]
     },
     "metadata": {
      "needs_background": "light"
     },
     "output_type": "display_data"
    }
   ],
   "source": [
    "sns.countplot(x='home_ownership',data = loan_data[loan_data.loan_status == 'Charged Off'])"
   ]
  },
  {
   "cell_type": "code",
   "execution_count": 106,
   "id": "dc6087a6",
   "metadata": {},
   "outputs": [
    {
     "data": {
      "text/plain": [
       "<AxesSubplot:xlabel='term', ylabel='count'>"
      ]
     },
     "execution_count": 106,
     "metadata": {},
     "output_type": "execute_result"
    },
    {
     "data": {
      "image/png": "[encoded data removed]",
      "text/plain": [
       "<Figure size 432x288 with 1 Axes>"
      ]
     },
     "metadata": {
      "needs_background": "light"
     },
     "output_type": "display_data"
    }
   ],
   "source": [
    "##Analysing based on \"term\" column\n",
    "sns.countplot(x='term', data=loan_data[loan_data.loan_status =='Charged Off'])"
   ]
  },
  {
   "cell_type": "code",
   "execution_count": 107,
   "id": "0156fefd",
   "metadata": {},
   "outputs": [
    {
     "data": {
      "text/plain": [
       "<AxesSubplot:xlabel='verification_status', ylabel='count'>"
      ]
     },
     "execution_count": 107,
     "metadata": {},
     "output_type": "execute_result"
    },
    {
     "data": {
      "image/png": "[encoded data removed]",
      "text/plain": [
       "<Figure size 432x288 with 1 Axes>"
      ]
     },
     "metadata": {
      "needs_background": "light"
     },
     "output_type": "display_data"
    }
   ],
   "source": [
    "##Analysing based on \"verification_status\" column\n",
    "sns.countplot(x='verification_status', data=loan_data[loan_data.loan_status =='Charged Off'])"
   ]
  },
  {
   "cell_type": "code",
   "execution_count": 111,
   "id": "ec561615",
   "metadata": {},
   "outputs": [
    {
     "data": {
      "text/plain": [
       "12140    1305.19\n",
       "16152    1302.69\n",
       "7988     1288.10\n",
       "11670    1288.10\n",
       "15050    1272.20\n",
       "          ...   \n",
       "39397      16.47\n",
       "39275      16.31\n",
       "39373      16.25\n",
       "38863      16.08\n",
       "39544      15.69\n",
       "Name: installment, Length: 36654, dtype: float64"
      ]
     },
     "execution_count": 111,
     "metadata": {},
     "output_type": "execute_result"
    }
   ],
   "source": [
    "loan_data.installment.sort_values(ascending=False)"
   ]
  },
  {
   "cell_type": "code",
   "execution_count": 112,
   "id": "4c029eda",
   "metadata": {},
   "outputs": [],
   "source": [
    "# From above data we see that the installments are between minimum of 15.69 and maximum being 1305. Creating the bins to analyse further\n",
    "loan_data['installment_bin'] = pd.cut(loan_data['installment'], bins=5,precision =0,labels=['0-200','200-500','500-800','800-1000','1000-1400'])"
   ]
  },
  {
   "cell_type": "code",
   "execution_count": 113,
   "id": "71d73273",
   "metadata": {},
   "outputs": [],
   "source": [
    "#Similarly creating bins for other variables \n",
    "loan_data['int_rate_bin'] = pd.cut(loan_data['int_rate'], bins=5,precision =0,labels=['5%-9%','9%-13%','13%-17%','17%-21%','21%-24%'])\n",
    "loan_data['total_acc_bin'] = pd.cut(loan_data['total_acc'], bins=5,precision =0,labels=['2-20','20-37','37-55','55-74','74-90'])\n",
    "loan_data['annual_inc_bin'] = pd.cut(loan_data['annual_inc'], bins=5,precision =0,labels =['3k-31k','31k-58k','58k-85k','85k-112k','112k-140k'])"
   ]
  },
  {
   "cell_type": "code",
   "execution_count": 114,
   "id": "6a2df01e",
   "metadata": {},
   "outputs": [
    {
     "data": {
      "text/html": [
       "<div>\n",
       "<style scoped>\n",
       "    .dataframe tbody tr th:only-of-type {\n",
       "        vertical-align: middle;\n",
       "    }\n",
       "\n",
       "    .dataframe tbody tr th {\n",
       "        vertical-align: top;\n",
       "    }\n",
       "\n",
       "    .dataframe thead th {\n",
       "        text-align: right;\n",
       "    }\n",
       "</style>\n",
       "<table border=\"1\" class=\"dataframe\">\n",
       "  <thead>\n",
       "    <tr style=\"text-align: right;\">\n",
       "      <th></th>\n",
       "      <th>loan_amnt</th>\n",
       "      <th>funded_amnt</th>\n",
       "      <th>funded_amnt_inv</th>\n",
       "      <th>term</th>\n",
       "      <th>int_rate</th>\n",
       "      <th>installment</th>\n",
       "      <th>emp_length</th>\n",
       "      <th>home_ownership</th>\n",
       "      <th>annual_inc</th>\n",
       "      <th>verification_status</th>\n",
       "      <th>...</th>\n",
       "      <th>loan_status</th>\n",
       "      <th>pymnt_plan</th>\n",
       "      <th>total_acc</th>\n",
       "      <th>total_pymnt</th>\n",
       "      <th>total_rec_late_fee</th>\n",
       "      <th>pub_rec_bankruptcies</th>\n",
       "      <th>installment_bin</th>\n",
       "      <th>int_rate_bin</th>\n",
       "      <th>total_acc_bin</th>\n",
       "      <th>annual_inc_bin</th>\n",
       "    </tr>\n",
       "  </thead>\n",
       "  <tbody>\n",
       "    <tr>\n",
       "      <th>0</th>\n",
       "      <td>5000</td>\n",
       "      <td>5000</td>\n",
       "      <td>4975.0</td>\n",
       "      <td>36 months</td>\n",
       "      <td>10.65</td>\n",
       "      <td>162.87</td>\n",
       "      <td>10</td>\n",
       "      <td>RENT</td>\n",
       "      <td>24000.0</td>\n",
       "      <td>Verified</td>\n",
       "      <td>...</td>\n",
       "      <td>Fully Paid</td>\n",
       "      <td>n</td>\n",
       "      <td>9</td>\n",
       "      <td>5863.155187</td>\n",
       "      <td>0.00</td>\n",
       "      <td>0.0</td>\n",
       "      <td>0-200</td>\n",
       "      <td>9%-13%</td>\n",
       "      <td>2-20</td>\n",
       "      <td>3k-31k</td>\n",
       "    </tr>\n",
       "    <tr>\n",
       "      <th>1</th>\n",
       "      <td>2500</td>\n",
       "      <td>2500</td>\n",
       "      <td>2500.0</td>\n",
       "      <td>60 months</td>\n",
       "      <td>15.27</td>\n",
       "      <td>59.83</td>\n",
       "      <td>0</td>\n",
       "      <td>RENT</td>\n",
       "      <td>30000.0</td>\n",
       "      <td>Source Verified</td>\n",
       "      <td>...</td>\n",
       "      <td>Charged Off</td>\n",
       "      <td>n</td>\n",
       "      <td>4</td>\n",
       "      <td>1008.710000</td>\n",
       "      <td>0.00</td>\n",
       "      <td>0.0</td>\n",
       "      <td>0-200</td>\n",
       "      <td>13%-17%</td>\n",
       "      <td>2-20</td>\n",
       "      <td>3k-31k</td>\n",
       "    </tr>\n",
       "    <tr>\n",
       "      <th>2</th>\n",
       "      <td>2400</td>\n",
       "      <td>2400</td>\n",
       "      <td>2400.0</td>\n",
       "      <td>36 months</td>\n",
       "      <td>15.96</td>\n",
       "      <td>84.33</td>\n",
       "      <td>10</td>\n",
       "      <td>RENT</td>\n",
       "      <td>12252.0</td>\n",
       "      <td>Not Verified</td>\n",
       "      <td>...</td>\n",
       "      <td>Fully Paid</td>\n",
       "      <td>n</td>\n",
       "      <td>10</td>\n",
       "      <td>3005.666844</td>\n",
       "      <td>0.00</td>\n",
       "      <td>0.0</td>\n",
       "      <td>0-200</td>\n",
       "      <td>13%-17%</td>\n",
       "      <td>2-20</td>\n",
       "      <td>3k-31k</td>\n",
       "    </tr>\n",
       "    <tr>\n",
       "      <th>3</th>\n",
       "      <td>10000</td>\n",
       "      <td>10000</td>\n",
       "      <td>10000.0</td>\n",
       "      <td>36 months</td>\n",
       "      <td>13.49</td>\n",
       "      <td>339.31</td>\n",
       "      <td>10</td>\n",
       "      <td>RENT</td>\n",
       "      <td>49200.0</td>\n",
       "      <td>Source Verified</td>\n",
       "      <td>...</td>\n",
       "      <td>Fully Paid</td>\n",
       "      <td>n</td>\n",
       "      <td>37</td>\n",
       "      <td>12231.890000</td>\n",
       "      <td>16.97</td>\n",
       "      <td>0.0</td>\n",
       "      <td>200-500</td>\n",
       "      <td>13%-17%</td>\n",
       "      <td>20-37</td>\n",
       "      <td>31k-58k</td>\n",
       "    </tr>\n",
       "    <tr>\n",
       "      <th>5</th>\n",
       "      <td>5000</td>\n",
       "      <td>5000</td>\n",
       "      <td>5000.0</td>\n",
       "      <td>36 months</td>\n",
       "      <td>7.90</td>\n",
       "      <td>156.46</td>\n",
       "      <td>3</td>\n",
       "      <td>RENT</td>\n",
       "      <td>36000.0</td>\n",
       "      <td>Source Verified</td>\n",
       "      <td>...</td>\n",
       "      <td>Fully Paid</td>\n",
       "      <td>n</td>\n",
       "      <td>12</td>\n",
       "      <td>5632.210000</td>\n",
       "      <td>0.00</td>\n",
       "      <td>0.0</td>\n",
       "      <td>0-200</td>\n",
       "      <td>5%-9%</td>\n",
       "      <td>2-20</td>\n",
       "      <td>31k-58k</td>\n",
       "    </tr>\n",
       "  </tbody>\n",
       "</table>\n",
       "<p>5 rows × 21 columns</p>\n",
       "</div>"
      ],
      "text/plain": [
       "   loan_amnt  funded_amnt  funded_amnt_inv        term  int_rate  installment  \\\n",
       "0       5000         5000           4975.0   36 months     10.65       162.87   \n",
       "1       2500         2500           2500.0   60 months     15.27        59.83   \n",
       "2       2400         2400           2400.0   36 months     15.96        84.33   \n",
       "3      10000        10000          10000.0   36 months     13.49       339.31   \n",
       "5       5000         5000           5000.0   36 months      7.90       156.46   \n",
       "\n",
       "   emp_length home_ownership  annual_inc verification_status  ...  \\\n",
       "0          10           RENT     24000.0            Verified  ...   \n",
       "1           0           RENT     30000.0     Source Verified  ...   \n",
       "2          10           RENT     12252.0        Not Verified  ...   \n",
       "3          10           RENT     49200.0     Source Verified  ...   \n",
       "5           3           RENT     36000.0     Source Verified  ...   \n",
       "\n",
       "   loan_status pymnt_plan total_acc   total_pymnt  total_rec_late_fee  \\\n",
       "0   Fully Paid          n         9   5863.155187                0.00   \n",
       "1  Charged Off          n         4   1008.710000                0.00   \n",
       "2   Fully Paid          n        10   3005.666844                0.00   \n",
       "3   Fully Paid          n        37  12231.890000               16.97   \n",
       "5   Fully Paid          n        12   5632.210000                0.00   \n",
       "\n",
       "   pub_rec_bankruptcies  installment_bin int_rate_bin total_acc_bin  \\\n",
       "0                   0.0            0-200       9%-13%          2-20   \n",
       "1                   0.0            0-200      13%-17%          2-20   \n",
       "2                   0.0            0-200      13%-17%          2-20   \n",
       "3                   0.0          200-500      13%-17%         20-37   \n",
       "5                   0.0            0-200        5%-9%          2-20   \n",
       "\n",
       "  annual_inc_bin  \n",
       "0         3k-31k  \n",
       "1         3k-31k  \n",
       "2         3k-31k  \n",
       "3        31k-58k  \n",
       "5        31k-58k  \n",
       "\n",
       "[5 rows x 21 columns]"
      ]
     },
     "execution_count": 114,
     "metadata": {},
     "output_type": "execute_result"
    }
   ],
   "source": [
    "loan_data.head()"
   ]
  },
  {
   "cell_type": "code",
   "execution_count": 115,
   "id": "2fe52b40",
   "metadata": {},
   "outputs": [
    {
     "data": {
      "text/plain": [
       "0        10\n",
       "13625    10\n",
       "13592    10\n",
       "13595    10\n",
       "13598    10\n",
       "         ..\n",
       "16269     0\n",
       "16261     0\n",
       "6131      0\n",
       "16257     0\n",
       "39716     0\n",
       "Name: emp_length, Length: 36654, dtype: int64"
      ]
     },
     "execution_count": 115,
     "metadata": {},
     "output_type": "execute_result"
    }
   ],
   "source": [
    "loan_data.emp_length.sort_values(ascending=False)"
   ]
  },
  {
   "cell_type": "code",
   "execution_count": 116,
   "id": "3bff4b34",
   "metadata": {},
   "outputs": [
    {
     "data": {
      "text/plain": [
       "array([10,  0,  3,  8,  9,  4,  5,  1,  6,  2,  7], dtype=int64)"
      ]
     },
     "execution_count": 116,
     "metadata": {},
     "output_type": "execute_result"
    }
   ],
   "source": [
    "loan_data.emp_length.unique()"
   ]
  },
  {
   "cell_type": "code",
   "execution_count": 118,
   "id": "8f5ba354",
   "metadata": {},
   "outputs": [],
   "source": [
    "#We have emp_length values ranging from 0 to 10, creating bins for these as well\n",
    "loan_data['emp_length_bin'] = pd.cut(loan_data['emp_length'], bins=3,precision =0,labels =['0-3','3-6','6-10'])"
   ]
  },
  {
   "cell_type": "code",
   "execution_count": 119,
   "id": "f722ade2",
   "metadata": {},
   "outputs": [
    {
     "data": {
      "text/html": [
       "<div>\n",
       "<style scoped>\n",
       "    .dataframe tbody tr th:only-of-type {\n",
       "        vertical-align: middle;\n",
       "    }\n",
       "\n",
       "    .dataframe tbody tr th {\n",
       "        vertical-align: top;\n",
       "    }\n",
       "\n",
       "    .dataframe thead th {\n",
       "        text-align: right;\n",
       "    }\n",
       "</style>\n",
       "<table border=\"1\" class=\"dataframe\">\n",
       "  <thead>\n",
       "    <tr style=\"text-align: right;\">\n",
       "      <th></th>\n",
       "      <th>loan_amnt</th>\n",
       "      <th>funded_amnt</th>\n",
       "      <th>funded_amnt_inv</th>\n",
       "      <th>term</th>\n",
       "      <th>int_rate</th>\n",
       "      <th>installment</th>\n",
       "      <th>emp_length</th>\n",
       "      <th>home_ownership</th>\n",
       "      <th>annual_inc</th>\n",
       "      <th>verification_status</th>\n",
       "      <th>...</th>\n",
       "      <th>pymnt_plan</th>\n",
       "      <th>total_acc</th>\n",
       "      <th>total_pymnt</th>\n",
       "      <th>total_rec_late_fee</th>\n",
       "      <th>pub_rec_bankruptcies</th>\n",
       "      <th>installment_bin</th>\n",
       "      <th>int_rate_bin</th>\n",
       "      <th>total_acc_bin</th>\n",
       "      <th>annual_inc_bin</th>\n",
       "      <th>emp_length_bin</th>\n",
       "    </tr>\n",
       "  </thead>\n",
       "  <tbody>\n",
       "    <tr>\n",
       "      <th>0</th>\n",
       "      <td>5000</td>\n",
       "      <td>5000</td>\n",
       "      <td>4975.0</td>\n",
       "      <td>36 months</td>\n",
       "      <td>10.65</td>\n",
       "      <td>162.87</td>\n",
       "      <td>10</td>\n",
       "      <td>RENT</td>\n",
       "      <td>24000.0</td>\n",
       "      <td>Verified</td>\n",
       "      <td>...</td>\n",
       "      <td>n</td>\n",
       "      <td>9</td>\n",
       "      <td>5863.155187</td>\n",
       "      <td>0.00</td>\n",
       "      <td>0.0</td>\n",
       "      <td>0-200</td>\n",
       "      <td>9%-13%</td>\n",
       "      <td>2-20</td>\n",
       "      <td>3k-31k</td>\n",
       "      <td>6-10</td>\n",
       "    </tr>\n",
       "    <tr>\n",
       "      <th>1</th>\n",
       "      <td>2500</td>\n",
       "      <td>2500</td>\n",
       "      <td>2500.0</td>\n",
       "      <td>60 months</td>\n",
       "      <td>15.27</td>\n",
       "      <td>59.83</td>\n",
       "      <td>0</td>\n",
       "      <td>RENT</td>\n",
       "      <td>30000.0</td>\n",
       "      <td>Source Verified</td>\n",
       "      <td>...</td>\n",
       "      <td>n</td>\n",
       "      <td>4</td>\n",
       "      <td>1008.710000</td>\n",
       "      <td>0.00</td>\n",
       "      <td>0.0</td>\n",
       "      <td>0-200</td>\n",
       "      <td>13%-17%</td>\n",
       "      <td>2-20</td>\n",
       "      <td>3k-31k</td>\n",
       "      <td>0-3</td>\n",
       "    </tr>\n",
       "    <tr>\n",
       "      <th>2</th>\n",
       "      <td>2400</td>\n",
       "      <td>2400</td>\n",
       "      <td>2400.0</td>\n",
       "      <td>36 months</td>\n",
       "      <td>15.96</td>\n",
       "      <td>84.33</td>\n",
       "      <td>10</td>\n",
       "      <td>RENT</td>\n",
       "      <td>12252.0</td>\n",
       "      <td>Not Verified</td>\n",
       "      <td>...</td>\n",
       "      <td>n</td>\n",
       "      <td>10</td>\n",
       "      <td>3005.666844</td>\n",
       "      <td>0.00</td>\n",
       "      <td>0.0</td>\n",
       "      <td>0-200</td>\n",
       "      <td>13%-17%</td>\n",
       "      <td>2-20</td>\n",
       "      <td>3k-31k</td>\n",
       "      <td>6-10</td>\n",
       "    </tr>\n",
       "    <tr>\n",
       "      <th>3</th>\n",
       "      <td>10000</td>\n",
       "      <td>10000</td>\n",
       "      <td>10000.0</td>\n",
       "      <td>36 months</td>\n",
       "      <td>13.49</td>\n",
       "      <td>339.31</td>\n",
       "      <td>10</td>\n",
       "      <td>RENT</td>\n",
       "      <td>49200.0</td>\n",
       "      <td>Source Verified</td>\n",
       "      <td>...</td>\n",
       "      <td>n</td>\n",
       "      <td>37</td>\n",
       "      <td>12231.890000</td>\n",
       "      <td>16.97</td>\n",
       "      <td>0.0</td>\n",
       "      <td>200-500</td>\n",
       "      <td>13%-17%</td>\n",
       "      <td>20-37</td>\n",
       "      <td>31k-58k</td>\n",
       "      <td>6-10</td>\n",
       "    </tr>\n",
       "    <tr>\n",
       "      <th>5</th>\n",
       "      <td>5000</td>\n",
       "      <td>5000</td>\n",
       "      <td>5000.0</td>\n",
       "      <td>36 months</td>\n",
       "      <td>7.90</td>\n",
       "      <td>156.46</td>\n",
       "      <td>3</td>\n",
       "      <td>RENT</td>\n",
       "      <td>36000.0</td>\n",
       "      <td>Source Verified</td>\n",
       "      <td>...</td>\n",
       "      <td>n</td>\n",
       "      <td>12</td>\n",
       "      <td>5632.210000</td>\n",
       "      <td>0.00</td>\n",
       "      <td>0.0</td>\n",
       "      <td>0-200</td>\n",
       "      <td>5%-9%</td>\n",
       "      <td>2-20</td>\n",
       "      <td>31k-58k</td>\n",
       "      <td>0-3</td>\n",
       "    </tr>\n",
       "  </tbody>\n",
       "</table>\n",
       "<p>5 rows × 22 columns</p>\n",
       "</div>"
      ],
      "text/plain": [
       "   loan_amnt  funded_amnt  funded_amnt_inv        term  int_rate  installment  \\\n",
       "0       5000         5000           4975.0   36 months     10.65       162.87   \n",
       "1       2500         2500           2500.0   60 months     15.27        59.83   \n",
       "2       2400         2400           2400.0   36 months     15.96        84.33   \n",
       "3      10000        10000          10000.0   36 months     13.49       339.31   \n",
       "5       5000         5000           5000.0   36 months      7.90       156.46   \n",
       "\n",
       "   emp_length home_ownership  annual_inc verification_status  ... pymnt_plan  \\\n",
       "0          10           RENT     24000.0            Verified  ...          n   \n",
       "1           0           RENT     30000.0     Source Verified  ...          n   \n",
       "2          10           RENT     12252.0        Not Verified  ...          n   \n",
       "3          10           RENT     49200.0     Source Verified  ...          n   \n",
       "5           3           RENT     36000.0     Source Verified  ...          n   \n",
       "\n",
       "  total_acc   total_pymnt  total_rec_late_fee  pub_rec_bankruptcies  \\\n",
       "0         9   5863.155187                0.00                   0.0   \n",
       "1         4   1008.710000                0.00                   0.0   \n",
       "2        10   3005.666844                0.00                   0.0   \n",
       "3        37  12231.890000               16.97                   0.0   \n",
       "5        12   5632.210000                0.00                   0.0   \n",
       "\n",
       "   installment_bin  int_rate_bin total_acc_bin annual_inc_bin emp_length_bin  \n",
       "0            0-200        9%-13%          2-20         3k-31k           6-10  \n",
       "1            0-200       13%-17%          2-20         3k-31k            0-3  \n",
       "2            0-200       13%-17%          2-20         3k-31k           6-10  \n",
       "3          200-500       13%-17%         20-37        31k-58k           6-10  \n",
       "5            0-200         5%-9%          2-20        31k-58k            0-3  \n",
       "\n",
       "[5 rows x 22 columns]"
      ]
     },
     "execution_count": 119,
     "metadata": {},
     "output_type": "execute_result"
    }
   ],
   "source": [
    "loan_data.head()"
   ]
  },
  {
   "cell_type": "code",
   "execution_count": 120,
   "id": "434634cc",
   "metadata": {},
   "outputs": [
    {
     "data": {
      "text/plain": [
       "39544      500\n",
       "39397      500\n",
       "39275      500\n",
       "39373      500\n",
       "38863      500\n",
       "         ...  \n",
       "3965     35000\n",
       "12513    35000\n",
       "7424     35000\n",
       "7440     35000\n",
       "12412    35000\n",
       "Name: loan_amnt, Length: 36654, dtype: int64"
      ]
     },
     "execution_count": 120,
     "metadata": {},
     "output_type": "execute_result"
    }
   ],
   "source": [
    "#Now lets analyse and create bins for rest of numerical variables\n",
    "loan_data.loan_amnt.sort_values()"
   ]
  },
  {
   "cell_type": "code",
   "execution_count": 122,
   "id": "cce44a7d",
   "metadata": {},
   "outputs": [],
   "source": [
    "#We see that the loan_amnt ranges between 500 and 35000, lets now create bins of it.\n",
    "loan_data['loan_amnt_bin'] = pd.cut(loan_data['loan_amnt'], bins=7,precision =0,labels=['0-5k','5k-10k','10k-15k','15k-20k','20k-25k','25k-30k','30k-35k'])"
   ]
  },
  {
   "cell_type": "code",
   "execution_count": 125,
   "id": "99941828",
   "metadata": {
    "scrolled": true
   },
   "outputs": [
    {
     "data": {
      "text/plain": [
       "38474        0.0\n",
       "38606        0.0\n",
       "38504        0.0\n",
       "38605        0.0\n",
       "38604        0.0\n",
       "          ...   \n",
       "3703     35000.0\n",
       "10651    35000.0\n",
       "17923    35000.0\n",
       "12905    35000.0\n",
       "5180     35000.0\n",
       "Name: funded_amnt_inv, Length: 36654, dtype: float64"
      ]
     },
     "execution_count": 125,
     "metadata": {},
     "output_type": "execute_result"
    }
   ],
   "source": [
    "##Similarly for funded_amnt_inv columns \n",
    "loan_data.funded_amnt_inv.sort_values()"
   ]
  },
  {
   "cell_type": "code",
   "execution_count": 146,
   "id": "86a883ca",
   "metadata": {},
   "outputs": [],
   "source": [
    "#We see that the loan_amnt ranges between 0 and 35000, lets now create bins of it.\n",
    "loan_data['funded_amnt_inv_group'] = pd.cut(loan_data['funded_amnt_inv'], bins=7,labels=['0-5k','5k-10k','10k-15k','15k-20k','20k-25k','25k-30k','30k-35k']) "
   ]
  },
  {
   "cell_type": "code",
   "execution_count": 147,
   "id": "db51d1c6",
   "metadata": {},
   "outputs": [
    {
     "data": {
      "text/html": [
       "<div>\n",
       "<style scoped>\n",
       "    .dataframe tbody tr th:only-of-type {\n",
       "        vertical-align: middle;\n",
       "    }\n",
       "\n",
       "    .dataframe tbody tr th {\n",
       "        vertical-align: top;\n",
       "    }\n",
       "\n",
       "    .dataframe thead th {\n",
       "        text-align: right;\n",
       "    }\n",
       "</style>\n",
       "<table border=\"1\" class=\"dataframe\">\n",
       "  <thead>\n",
       "    <tr style=\"text-align: right;\">\n",
       "      <th></th>\n",
       "      <th>loan_amnt</th>\n",
       "      <th>funded_amnt</th>\n",
       "      <th>funded_amnt_inv</th>\n",
       "      <th>term</th>\n",
       "      <th>int_rate</th>\n",
       "      <th>installment</th>\n",
       "      <th>emp_length</th>\n",
       "      <th>home_ownership</th>\n",
       "      <th>annual_inc</th>\n",
       "      <th>verification_status</th>\n",
       "      <th>...</th>\n",
       "      <th>total_pymnt</th>\n",
       "      <th>total_rec_late_fee</th>\n",
       "      <th>pub_rec_bankruptcies</th>\n",
       "      <th>installment_bin</th>\n",
       "      <th>int_rate_bin</th>\n",
       "      <th>total_acc_bin</th>\n",
       "      <th>annual_inc_bin</th>\n",
       "      <th>emp_length_bin</th>\n",
       "      <th>loan_amnt_bin</th>\n",
       "      <th>funded_amnt_inv_group</th>\n",
       "    </tr>\n",
       "  </thead>\n",
       "  <tbody>\n",
       "    <tr>\n",
       "      <th>0</th>\n",
       "      <td>5000</td>\n",
       "      <td>5000</td>\n",
       "      <td>4975.0</td>\n",
       "      <td>36 months</td>\n",
       "      <td>10.65</td>\n",
       "      <td>162.87</td>\n",
       "      <td>10</td>\n",
       "      <td>RENT</td>\n",
       "      <td>24000.0</td>\n",
       "      <td>Verified</td>\n",
       "      <td>...</td>\n",
       "      <td>5863.155187</td>\n",
       "      <td>0.00</td>\n",
       "      <td>0.0</td>\n",
       "      <td>0-200</td>\n",
       "      <td>9%-13%</td>\n",
       "      <td>2-20</td>\n",
       "      <td>3k-31k</td>\n",
       "      <td>6-10</td>\n",
       "      <td>0-5k</td>\n",
       "      <td>0-5k</td>\n",
       "    </tr>\n",
       "    <tr>\n",
       "      <th>1</th>\n",
       "      <td>2500</td>\n",
       "      <td>2500</td>\n",
       "      <td>2500.0</td>\n",
       "      <td>60 months</td>\n",
       "      <td>15.27</td>\n",
       "      <td>59.83</td>\n",
       "      <td>0</td>\n",
       "      <td>RENT</td>\n",
       "      <td>30000.0</td>\n",
       "      <td>Source Verified</td>\n",
       "      <td>...</td>\n",
       "      <td>1008.710000</td>\n",
       "      <td>0.00</td>\n",
       "      <td>0.0</td>\n",
       "      <td>0-200</td>\n",
       "      <td>13%-17%</td>\n",
       "      <td>2-20</td>\n",
       "      <td>3k-31k</td>\n",
       "      <td>0-3</td>\n",
       "      <td>0-5k</td>\n",
       "      <td>0-5k</td>\n",
       "    </tr>\n",
       "    <tr>\n",
       "      <th>2</th>\n",
       "      <td>2400</td>\n",
       "      <td>2400</td>\n",
       "      <td>2400.0</td>\n",
       "      <td>36 months</td>\n",
       "      <td>15.96</td>\n",
       "      <td>84.33</td>\n",
       "      <td>10</td>\n",
       "      <td>RENT</td>\n",
       "      <td>12252.0</td>\n",
       "      <td>Not Verified</td>\n",
       "      <td>...</td>\n",
       "      <td>3005.666844</td>\n",
       "      <td>0.00</td>\n",
       "      <td>0.0</td>\n",
       "      <td>0-200</td>\n",
       "      <td>13%-17%</td>\n",
       "      <td>2-20</td>\n",
       "      <td>3k-31k</td>\n",
       "      <td>6-10</td>\n",
       "      <td>0-5k</td>\n",
       "      <td>0-5k</td>\n",
       "    </tr>\n",
       "    <tr>\n",
       "      <th>3</th>\n",
       "      <td>10000</td>\n",
       "      <td>10000</td>\n",
       "      <td>10000.0</td>\n",
       "      <td>36 months</td>\n",
       "      <td>13.49</td>\n",
       "      <td>339.31</td>\n",
       "      <td>10</td>\n",
       "      <td>RENT</td>\n",
       "      <td>49200.0</td>\n",
       "      <td>Source Verified</td>\n",
       "      <td>...</td>\n",
       "      <td>12231.890000</td>\n",
       "      <td>16.97</td>\n",
       "      <td>0.0</td>\n",
       "      <td>200-500</td>\n",
       "      <td>13%-17%</td>\n",
       "      <td>20-37</td>\n",
       "      <td>31k-58k</td>\n",
       "      <td>6-10</td>\n",
       "      <td>5k-10k</td>\n",
       "      <td>5k-10k</td>\n",
       "    </tr>\n",
       "    <tr>\n",
       "      <th>5</th>\n",
       "      <td>5000</td>\n",
       "      <td>5000</td>\n",
       "      <td>5000.0</td>\n",
       "      <td>36 months</td>\n",
       "      <td>7.90</td>\n",
       "      <td>156.46</td>\n",
       "      <td>3</td>\n",
       "      <td>RENT</td>\n",
       "      <td>36000.0</td>\n",
       "      <td>Source Verified</td>\n",
       "      <td>...</td>\n",
       "      <td>5632.210000</td>\n",
       "      <td>0.00</td>\n",
       "      <td>0.0</td>\n",
       "      <td>0-200</td>\n",
       "      <td>5%-9%</td>\n",
       "      <td>2-20</td>\n",
       "      <td>31k-58k</td>\n",
       "      <td>0-3</td>\n",
       "      <td>0-5k</td>\n",
       "      <td>0-5k</td>\n",
       "    </tr>\n",
       "  </tbody>\n",
       "</table>\n",
       "<p>5 rows × 24 columns</p>\n",
       "</div>"
      ],
      "text/plain": [
       "   loan_amnt  funded_amnt  funded_amnt_inv        term  int_rate  installment  \\\n",
       "0       5000         5000           4975.0   36 months     10.65       162.87   \n",
       "1       2500         2500           2500.0   60 months     15.27        59.83   \n",
       "2       2400         2400           2400.0   36 months     15.96        84.33   \n",
       "3      10000        10000          10000.0   36 months     13.49       339.31   \n",
       "5       5000         5000           5000.0   36 months      7.90       156.46   \n",
       "\n",
       "   emp_length home_ownership  annual_inc verification_status  ...  \\\n",
       "0          10           RENT     24000.0            Verified  ...   \n",
       "1           0           RENT     30000.0     Source Verified  ...   \n",
       "2          10           RENT     12252.0        Not Verified  ...   \n",
       "3          10           RENT     49200.0     Source Verified  ...   \n",
       "5           3           RENT     36000.0     Source Verified  ...   \n",
       "\n",
       "    total_pymnt total_rec_late_fee pub_rec_bankruptcies  installment_bin  \\\n",
       "0   5863.155187               0.00                  0.0            0-200   \n",
       "1   1008.710000               0.00                  0.0            0-200   \n",
       "2   3005.666844               0.00                  0.0            0-200   \n",
       "3  12231.890000              16.97                  0.0          200-500   \n",
       "5   5632.210000               0.00                  0.0            0-200   \n",
       "\n",
       "   int_rate_bin  total_acc_bin  annual_inc_bin emp_length_bin loan_amnt_bin  \\\n",
       "0        9%-13%           2-20          3k-31k           6-10          0-5k   \n",
       "1       13%-17%           2-20          3k-31k            0-3          0-5k   \n",
       "2       13%-17%           2-20          3k-31k           6-10          0-5k   \n",
       "3       13%-17%          20-37         31k-58k           6-10        5k-10k   \n",
       "5         5%-9%           2-20         31k-58k            0-3          0-5k   \n",
       "\n",
       "  funded_amnt_inv_group  \n",
       "0                  0-5k  \n",
       "1                  0-5k  \n",
       "2                  0-5k  \n",
       "3                5k-10k  \n",
       "5                  0-5k  \n",
       "\n",
       "[5 rows x 24 columns]"
      ]
     },
     "execution_count": 147,
     "metadata": {},
     "output_type": "execute_result"
    }
   ],
   "source": [
    "loan_data.head()"
   ]
  },
  {
   "cell_type": "code",
   "execution_count": 149,
   "id": "7f536143",
   "metadata": {},
   "outputs": [
    {
     "data": {
      "text/plain": [
       "<AxesSubplot:xlabel='installment_bin', ylabel='count'>"
      ]
     },
     "execution_count": 149,
     "metadata": {},
     "output_type": "execute_result"
    },
    {
     "data": {
      "image/png": "[encoded data removed]",
      "text/plain": [
       "<Figure size 432x288 with 1 Axes>"
      ]
     },
     "metadata": {
      "needs_background": "light"
     },
     "output_type": "display_data"
    }
   ],
   "source": [
    "sns.countplot(x='installment_bin', data=loan_data[loan_data.loan_status =='Charged Off'])"
   ]
  },
  {
   "cell_type": "code",
   "execution_count": 150,
   "id": "ee37ec85",
   "metadata": {},
   "outputs": [],
   "source": [
    "##Conclusion\n",
    "#The customers having monthly installments in the range 0 to 500 are seen to be Defaulted more comparably"
   ]
  },
  {
   "cell_type": "code",
   "execution_count": 151,
   "id": "d5fe4d17",
   "metadata": {},
   "outputs": [
    {
     "data": {
      "text/plain": [
       "Text(0.5, 0, 'Interest Rate')"
      ]
     },
     "execution_count": 151,
     "metadata": {},
     "output_type": "execute_result"
    },
    {
     "data": {
      "image/png": "[encoded data removed]",
      "text/plain": [
       "<Figure size 1080x720 with 1 Axes>"
      ]
     },
     "metadata": {
      "needs_background": "light"
     },
     "output_type": "display_data"
    }
   ],
   "source": [
    "##Analysing interest rate column\n",
    "fig, ax = plt.subplots(figsize = (15,10))\n",
    "plt.subplot(221)\n",
    "sns.countplot(x='int_rate_bin', data=loan_data[loan_data.loan_status == 'Charged Off'])\n",
    "plt.xlabel('Interest Rate')"
   ]
  },
  {
   "cell_type": "code",
   "execution_count": 152,
   "id": "c7fa78ee",
   "metadata": {},
   "outputs": [],
   "source": [
    "##Conclusion\n",
    "#The customers having interest between 9% to 17% are seen to be Defaulted"
   ]
  },
  {
   "cell_type": "code",
   "execution_count": 154,
   "id": "11921bdb",
   "metadata": {},
   "outputs": [
    {
     "data": {
      "text/plain": [
       "Text(0.5, 0, 'Annual Income')"
      ]
     },
     "execution_count": 154,
     "metadata": {},
     "output_type": "execute_result"
    },
    {
     "data": {
      "image/png": "[encoded data removed]",
      "text/plain": [
       "<Figure size 1080x720 with 2 Axes>"
      ]
     },
     "metadata": {
      "needs_background": "light"
     },
     "output_type": "display_data"
    }
   ],
   "source": [
    "##Analysis of column \"emp_length\" and \"annual_inc\"\n",
    "fig, ax = plt.subplots(figsize = (15,10))\n",
    "plt.subplot(221)\n",
    "sns.countplot(x='emp_length_bin', data=loan_data[loan_data.loan_status == 'Charged Off'])\n",
    "plt.xlabel('Employment Length')\n",
    "plt.subplot(222)\n",
    "sns.countplot(x='annual_inc_bin', data=loan_data[loan_data.loan_status == 'Charged Off'])\n",
    "plt.xlabel('Annual Income')"
   ]
  },
  {
   "cell_type": "code",
   "execution_count": 155,
   "id": "4290b2f9",
   "metadata": {},
   "outputs": [],
   "source": [
    "##Conclusion\n",
    "#The customers have employment length in the range 0 to 3 years and 6 to 10 years are seen to be defaulted more.\n",
    "#The customers with teh annual income between 30k to 85k seem to be defaulted as well\n"
   ]
  },
  {
   "cell_type": "code",
   "execution_count": 157,
   "id": "d693d240",
   "metadata": {},
   "outputs": [
    {
     "data": {
      "text/plain": [
       "Text(0.5, 0, 'Inv Funded Amount')"
      ]
     },
     "execution_count": 157,
     "metadata": {},
     "output_type": "execute_result"
    },
    {
     "data": {
      "image/png": "[encoded data removed]",
      "text/plain": [
       "<Figure size 1080x720 with 2 Axes>"
      ]
     },
     "metadata": {
      "needs_background": "light"
     },
     "output_type": "display_data"
    }
   ],
   "source": [
    "##Analysis of column \"loan_amnt\" and \"funded_amnt_inv\" using the created bins\n",
    "fig, ax = plt.subplots(figsize = (15,10))\n",
    "plt.subplot(221)\n",
    "sns.countplot(x='loan_amnt_bin', data=loan_data[loan_data.loan_status == 'Charged Off'])\n",
    "plt.xlabel('Loan Amount')\n",
    "plt.subplot(222)\n",
    "sns.countplot(x='funded_amnt_inv_group', data=loan_data[loan_data.loan_status == 'Charged Off'])\n",
    "plt.xlabel('Inv Funded Amount')"
   ]
  },
  {
   "cell_type": "code",
   "execution_count": 158,
   "id": "3b215b35",
   "metadata": {},
   "outputs": [],
   "source": [
    "##Conclusion\n",
    "#CUstomers with loan amount sanctioned between 5k to 10k are seen to be Defaulted more. \n",
    "#Analysing further we also see that customers with loan amout of 0 to 5k and 10k to 15k have also defaulted.\n",
    "# With loan amount between 15k to 25k have defaulted comparably low but cant be ignored\n",
    "# similarly analysing Funded Amount by Investors we can come to a conclusion that range 0 to 10k must be taken into account \n",
    "#customers with having funded amount between 10k to 15k should also be observed to an extent\n"
   ]
  },
  {
   "cell_type": "code",
   "execution_count": 159,
   "id": "3b925d5c",
   "metadata": {},
   "outputs": [
    {
     "data": {
      "text/plain": [
       "Text(0.5, 0, 'Home Ownership')"
      ]
     },
     "execution_count": 159,
     "metadata": {},
     "output_type": "execute_result"
    },
    {
     "data": {
      "image/png": "[encoded data removed]",
      "text/plain": [
       "<Figure size 432x288 with 1 Axes>"
      ]
     },
     "metadata": {
      "needs_background": "light"
     },
     "output_type": "display_data"
    }
   ],
   "source": [
    "## Similarly lets analyse for \"term\", \"home_ownership\" and \"verification_status\"\n",
    "sns.countplot(x=\"home_ownership\", data = loan_data[loan_data.loan_status == \"Charged Off\"])\n",
    "plt.xlabel(\"Home Ownership\")"
   ]
  },
  {
   "cell_type": "code",
   "execution_count": 160,
   "id": "3a65fe0a",
   "metadata": {},
   "outputs": [
    {
     "data": {
      "text/plain": [
       "Text(0.5, 0, 'verification status')"
      ]
     },
     "execution_count": 160,
     "metadata": {},
     "output_type": "execute_result"
    },
    {
     "data": {
      "image/png": "[encoded data removed]",
      "text/plain": [
       "<Figure size 1080x720 with 2 Axes>"
      ]
     },
     "metadata": {
      "needs_background": "light"
     },
     "output_type": "display_data"
    }
   ],
   "source": [
    "# Analysis wrt \"term\" and \"verification_status\"\n",
    "fig, ax = plt.subplots(figsize = (15,10))\n",
    "plt.subplot(221)\n",
    "sns.countplot(x='term', data=loan_data[loan_data.loan_status == 'Charged Off'])\n",
    "plt.xlabel('Term of Loan')\n",
    "plt.subplot(222)\n",
    "sns.countplot(x='verification_status', data=loan_data[loan_data.loan_status == 'Charged Off'])\n",
    "plt.xlabel('verification status')"
   ]
  },
  {
   "cell_type": "code",
   "execution_count": 161,
   "id": "339ab275",
   "metadata": {},
   "outputs": [],
   "source": [
    "## Conclusion\n",
    "#The non verified customers and with 36 months of loan term default more\n",
    "# Also people having rented house and with Mortgage Default more"
   ]
  },
  {
   "cell_type": "code",
   "execution_count": 177,
   "id": "741453ed",
   "metadata": {},
   "outputs": [],
   "source": [
    "#Analysis on the basis of issued month and year\n",
    "temp_mon_yr = loan_data.issue_d.str.partition('-',True)\n",
    "loan_data['issue_month'] = temp_mon_yr[0]\n",
    "loan_data['issue_year'] = '20'+ temp_mon_yr[2]"
   ]
  },
  {
   "cell_type": "code",
   "execution_count": 178,
   "id": "40471483",
   "metadata": {},
   "outputs": [
    {
     "data": {
      "text/plain": [
       "(36654, 26)"
      ]
     },
     "execution_count": 178,
     "metadata": {},
     "output_type": "execute_result"
    }
   ],
   "source": [
    "loan_data.shape"
   ]
  },
  {
   "cell_type": "code",
   "execution_count": 173,
   "id": "70692f2f",
   "metadata": {},
   "outputs": [
    {
     "data": {
      "text/plain": [
       "0        2011\n",
       "1        2011\n",
       "2        2011\n",
       "3        2011\n",
       "5        2011\n",
       "         ... \n",
       "39711    2007\n",
       "39712    2007\n",
       "39713    2007\n",
       "39714    2007\n",
       "39716    2007\n",
       "Name: 2, Length: 36654, dtype: object"
      ]
     },
     "execution_count": 173,
     "metadata": {},
     "output_type": "execute_result"
    }
   ],
   "source": [
    "loan_data.issue_year"
   ]
  },
  {
   "cell_type": "code",
   "execution_count": 174,
   "id": "ecadc19d",
   "metadata": {},
   "outputs": [],
   "source": [
    "#Now the issue month and issue year are formatted as per requirement. So lets analyse further"
   ]
  },
  {
   "cell_type": "code",
   "execution_count": 181,
   "id": "c9e74f5d",
   "metadata": {},
   "outputs": [
    {
     "data": {
      "text/plain": [
       "<AxesSubplot:xlabel='issue_month', ylabel='count'>"
      ]
     },
     "execution_count": 181,
     "metadata": {},
     "output_type": "execute_result"
    },
    {
     "data": {
      "image/png": "[encoded data removed]",
      "text/plain": [
       "<Figure size 1080x720 with 2 Axes>"
      ]
     },
     "metadata": {
      "needs_background": "light"
     },
     "output_type": "display_data"
    }
   ],
   "source": [
    "fig, ax = plt.subplots(figsize = (15,10))\n",
    "plt.subplot(221)\n",
    "sns.countplot(x='issue_year', data = loan_data[loan_data.loan_status == \"Charged Off\"])\n",
    "plt.subplot(222)\n",
    "sns.countplot(x='issue_month', data = loan_data[loan_data.loan_status == \"Charged Off\"])"
   ]
  },
  {
   "cell_type": "code",
   "execution_count": 182,
   "id": "0cc16a5e",
   "metadata": {},
   "outputs": [],
   "source": [
    "#With above analysis we can conclude that customers who have been sanctioned the loan in the year 2011 and month Dec Default more"
   ]
  },
  {
   "cell_type": "code",
   "execution_count": 183,
   "id": "abce2da8",
   "metadata": {},
   "outputs": [],
   "source": [
    "##Observations\n",
    "\n",
    "##As per the analysis, there is a probability of more defaulting with the below features\n",
    "# 1)Customers with monthly installment ranging from \"0 to 500\" are seen to be Defaulted more comparably\n",
    "#2)The customers having interest between \"9% to 17%\"\" are seen to be Defaulted\n",
    "#3)The customers have employment length in the range \"0 to 3 years and 6 to 10 years\" are seen to be defaulted more.\n",
    "#4)The customers with teh annual income between \"30k to 85k\" seem to be defaulted as well\n",
    "#5)Customers with loan amount sanctioned between \"5k to 10k\" are seen to be Defaulted more. \n",
    "#6)Analysing further we also see that customers with loan amout of \"0 to 5k and 10k to 15k\" have also defaulted.\n",
    "#7) With loan amount between 15k to 25k have defaulted comparably low but cant be ignored\n",
    "#8) similarly analysing Funded Amount by Investors we can come to a conclusion that range \"0 to 10k\" must be taken into account \n",
    "#9)customers with having funded amount between 10k to 15k should also be observed to an extent\n",
    "#10)The \"non verified\" customers and with \"36 months\" of loan term default more\n",
    "#11) Also people having rented house and with Mortgage Default more\n",
    "#12)With above analysis we can conclude that customers who have been sanctioned the loan in the year \"2011\" and month \"Dec\" Default more"
   ]
  },
  {
   "cell_type": "code",
   "execution_count": 190,
   "id": "e86c9b21",
   "metadata": {},
   "outputs": [
    {
     "data": {
      "image/png": "[encoded data removed]",
      "text/plain": [
       "<Figure size 576x432 with 1 Axes>"
      ]
     },
     "metadata": {
      "needs_background": "light"
     },
     "output_type": "display_data"
    }
   ],
   "source": [
    "#Analysing the loan_amnt with other columns for more insights\n",
    "#'loan_amnt' and 'term'\n",
    "plt.figure(figsize=(8,6))\n",
    "sns.barplot(data =loan_data,x='loan_amnt', y='annual_inc_bin', hue ='loan_status',palette=\"deep\")\n",
    "plt.show()"
   ]
  },
  {
   "cell_type": "code",
   "execution_count": 186,
   "id": "78c6898f",
   "metadata": {},
   "outputs": [],
   "source": [
    "##Conclusion \n",
    "# The applicants who are in the annual income bin of 112k to 140k with the loan amount between 17000 and 20000 are defaulted more"
   ]
  },
  {
   "cell_type": "code",
   "execution_count": 189,
   "id": "6284e57f",
   "metadata": {},
   "outputs": [
    {
     "data": {
      "image/png": "[encoded data removed]",
      "text/plain": [
       "<Figure size 576x432 with 1 Axes>"
      ]
     },
     "metadata": {
      "needs_background": "light"
     },
     "output_type": "display_data"
    }
   ],
   "source": [
    "#'loan_amnt' and 'int_rate'\n",
    "plt.figure(figsize=(8,6))\n",
    "sns.barplot(data =loan_data,x='loan_amnt', y='int_rate_bin', hue ='loan_status',palette=\"deep\")\n",
    "plt.show()"
   ]
  },
  {
   "cell_type": "code",
   "execution_count": 191,
   "id": "074a03db",
   "metadata": {},
   "outputs": [],
   "source": [
    "##Conclusion \n",
    "# The applicants with the interest rate of 21% to 24% with the loan amount of nearly 20k are likely to default"
   ]
  },
  {
   "cell_type": "code",
   "execution_count": 192,
   "id": "99fda6c2",
   "metadata": {},
   "outputs": [
    {
     "data": {
      "image/png": "[encoded data removed]",
      "text/plain": [
       "<Figure size 576x432 with 1 Axes>"
      ]
     },
     "metadata": {
      "needs_background": "light"
     },
     "output_type": "display_data"
    }
   ],
   "source": [
    "#'loan_amnt' and 'installment'\n",
    "plt.figure(figsize=(8,6))\n",
    "sns.barplot(data =loan_data,x='loan_amnt', y='installment_bin', hue ='loan_status',palette=\"deep\")\n",
    "plt.show()"
   ]
  },
  {
   "cell_type": "code",
   "execution_count": 193,
   "id": "b7dbb60f",
   "metadata": {},
   "outputs": [],
   "source": [
    "##Conclusion\n",
    "# The applicants having the installment of 1000 to 1400 with loan amount of nearly 35k default more"
   ]
  },
  {
   "cell_type": "code",
   "execution_count": 194,
   "id": "763e8381",
   "metadata": {},
   "outputs": [
    {
     "data": {
      "image/png": "[encoded data removed]",
      "text/plain": [
       "<Figure size 576x432 with 1 Axes>"
      ]
     },
     "metadata": {
      "needs_background": "light"
     },
     "output_type": "display_data"
    }
   ],
   "source": [
    "## Now lets analyse different attributes with respect to annual income\n",
    "#annual_inc and installment\n",
    "plt.figure(figsize=(8,6))\n",
    "sns.barplot(data =loan_data,x='annual_inc', y='installment_bin', hue ='loan_status',palette=\"deep\")\n",
    "plt.show()"
   ]
  },
  {
   "cell_type": "code",
   "execution_count": 195,
   "id": "db557906",
   "metadata": {},
   "outputs": [
    {
     "data": {
      "image/png": "[encoded data removed]",
      "text/plain": [
       "<Figure size 576x432 with 1 Axes>"
      ]
     },
     "metadata": {
      "needs_background": "light"
     },
     "output_type": "display_data"
    }
   ],
   "source": [
    "#annual_inc and interest rate \n",
    "plt.figure(figsize=(8,6))\n",
    "sns.barplot(data =loan_data,x='annual_inc', y='int_rate_bin', hue ='loan_status',palette=\"deep\")\n",
    "plt.show()"
   ]
  },
  {
   "cell_type": "code",
   "execution_count": 196,
   "id": "113f9ce4",
   "metadata": {},
   "outputs": [],
   "source": [
    "##COnclusion\n",
    "# The applicants having the annual income of around 70k with interest rate of 21 to 24% are likely to default"
   ]
  },
  {
   "cell_type": "code",
   "execution_count": 197,
   "id": "1d18f71f",
   "metadata": {
    "scrolled": true
   },
   "outputs": [
    {
     "data": {
      "image/png": "[encoded data removed]",
      "text/plain": [
       "<Figure size 576x432 with 1 Axes>"
      ]
     },
     "metadata": {
      "needs_background": "light"
     },
     "output_type": "display_data"
    }
   ],
   "source": [
    "#annual_inc and home ownership\n",
    "plt.figure(figsize=(8,6))\n",
    "sns.barplot(data =loan_data,x='annual_inc', y='home_ownership', hue ='loan_status',palette=\"deep\")\n",
    "plt.show()"
   ]
  },
  {
   "cell_type": "code",
   "execution_count": 198,
   "id": "43e936ac",
   "metadata": {},
   "outputs": [],
   "source": [
    "##COnclusion\n",
    "# The applicants having the annual income of around 70k with mortgage house are likely to default more"
   ]
  },
  {
   "cell_type": "code",
   "execution_count": 205,
   "id": "f87b76b2",
   "metadata": {},
   "outputs": [
    {
     "data": {
      "image/png": "[encoded data removed]",
      "text/plain": [
       "<Figure size 576x432 with 1 Axes>"
      ]
     },
     "metadata": {
      "needs_background": "light"
     },
     "output_type": "display_data"
    }
   ],
   "source": [
    "#annual_inc and emp_length\n",
    "plt.figure(figsize=(8,6))\n",
    "sns.barplot(data =loan_data,x='annual_inc', y='emp_length_bin', hue ='loan_status',palette=\"deep\")\n",
    "plt.show()"
   ]
  },
  {
   "cell_type": "code",
   "execution_count": null,
   "id": "ac23fe95",
   "metadata": {},
   "outputs": [],
   "source": [
    "##COnclusion\n",
    "# The applicants having the annual income of around 60k with work experience of 6 to 10 years are likely to default more"
   ]
  },
  {
   "cell_type": "code",
   "execution_count": 206,
   "id": "71940116",
   "metadata": {},
   "outputs": [
    {
     "data": {
      "image/png": "[encoded data removed]",
      "text/plain": [
       "<Figure size 576x432 with 1 Axes>"
      ]
     },
     "metadata": {
      "needs_background": "light"
     },
     "output_type": "display_data"
    }
   ],
   "source": [
    "#annual_inc and term\n",
    "plt.figure(figsize=(8,6))\n",
    "sns.barplot(data =loan_data,x='annual_inc', y='term', hue ='loan_status',palette=\"deep\")\n",
    "plt.show()"
   ]
  },
  {
   "cell_type": "code",
   "execution_count": null,
   "id": "ea70284e",
   "metadata": {},
   "outputs": [],
   "source": [
    "##Conclusion\n",
    "#The applicants having the annual income of around 60k with loan term of 60 months are likely to default more"
   ]
  },
  {
   "cell_type": "code",
   "execution_count": 210,
   "id": "7d04d28c",
   "metadata": {},
   "outputs": [
    {
     "data": {
      "image/png": "[encoded data removed]",
      "text/plain": [
       "<Figure size 1080x720 with 2 Axes>"
      ]
     },
     "metadata": {
      "needs_background": "light"
     },
     "output_type": "display_data"
    }
   ],
   "source": [
    "##Now lets analyse loan amount with month and year of issue\n",
    "plt.figure(figsize=(15,10))\n",
    "plt.subplot(221)\n",
    "sns.barplot(data =loan_data,x='loan_amnt', y='issue_month', hue ='loan_status',palette=\"deep\")\n",
    "plt.subplot(222)\n",
    "sns.barplot(data =loan_data,x='loan_amnt', y='issue_year', hue ='loan_status',palette=\"deep\")\n",
    "plt.show()"
   ]
  },
  {
   "cell_type": "code",
   "execution_count": 211,
   "id": "5f22378c",
   "metadata": {},
   "outputs": [],
   "source": [
    "##Conclusion\n",
    "# The applicants who are sanctioned the loan amount of around 12k to 14k in month of Nov and Dec and year 2011 have defaulted more"
   ]
  },
  {
   "cell_type": "code",
   "execution_count": 213,
   "id": "340c1fae",
   "metadata": {},
   "outputs": [
    {
     "data": {
      "image/png": "[encoded data removed]",
      "text/plain": [
       "<Figure size 1080x720 with 2 Axes>"
      ]
     },
     "metadata": {
      "needs_background": "light"
     },
     "output_type": "display_data"
    }
   ],
   "source": [
    "##Now lets analyse loan amount with month and year of issue\n",
    "plt.figure(figsize=(15,10))\n",
    "plt.subplot(221)\n",
    "sns.barplot(data =loan_data,x='annual_inc', y='issue_month', hue ='loan_status',palette=\"deep\")\n",
    "plt.subplot(222)\n",
    "sns.barplot(data =loan_data,x='annual_inc', y='issue_year', hue ='loan_status',palette=\"deep\")\n",
    "plt.show()"
   ]
  },
  {
   "cell_type": "code",
   "execution_count": 214,
   "id": "2dcf1abf",
   "metadata": {},
   "outputs": [],
   "source": [
    "##Conclusion\n",
    "# The applicants who have the annual income between 50k to 60k and loan being sanctioned in the months of Nov, Dec, Jan and Feb\n",
    "#have defaulted more"
   ]
  },
  {
   "cell_type": "code",
   "execution_count": null,
   "id": "5a5156c0",
   "metadata": {},
   "outputs": [],
   "source": [
    "##Observations\n",
    "\n",
    "#Based on above analysis there are more possibilities of defaulting with the below mentioned criteria\n",
    "#1) The applicants who are in the annual income bin of 112k to 140k with the loan amount between 17k and 20k \n",
    "#2) The applicants with the interest rate of 21% to 24% with the loan amount of nearly 20k \n",
    "#3) The applicants having the installment of 1000 to 1400 with loan amount of nearly 35k \n",
    "#4)The applicants having the annual income of around 70k with interest rate of 21 to 24% \n",
    "#5) The applicants having the annual income of around 70k with mortgage house \n",
    "#6)The applicants having the annual income of around 60k with work experience of 6 to 10 years \n",
    "#7)The applicants having the annual income of around 60k with loan term of 60 months \n",
    "#8) The applicants who are sanctioned the loan amount of around 12k to 14k in month of Nov and Dec and year 2011 \n",
    "#9)The applicants who have the annual income between 50k to 60k and loan being sanctioned in the months of Nov, Dec, Jan and Feb\n",
    "\n",
    "\n"
   ]
  }
 ],
 "metadata": {
  "kernelspec": {
   "display_name": "Python 3",
   "language": "python",
   "name": "python3"
  },
  "language_info": {
   "codemirror_mode": {
    "name": "ipython",
    "version": 3
   },
   "file_extension": ".py",
   "mimetype": "text/x-python",
   "name": "python",
   "nbconvert_exporter": "python",
   "pygments_lexer": "ipython3",
   "version": "3.8.8"
  }
 },
 "nbformat": 4,
 "nbformat_minor": 5
}
